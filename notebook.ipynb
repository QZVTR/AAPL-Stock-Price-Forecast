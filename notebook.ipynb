{
 "cells": [
  {
   "cell_type": "code",
   "execution_count": 68,
   "id": "feeedecf",
   "metadata": {},
   "outputs": [],
   "source": [
    "import yfinance as yf\n",
    "import pandas as pd\n",
    "import matplotlib.pyplot as plt \n",
    "import seaborn as sb\n",
    "import torch\n",
    "import torch.nn as nn\n",
    "import numpy as np\n",
    "import plotly.express as px\n",
    "import plotly.graph_objects as go  \n",
    "from sklearn.preprocessing import MinMaxScaler\n",
    "from torch.utils.data import DataLoader, TensorDataset\n",
    "from sklearn.metrics import mean_absolute_error, mean_squared_error, classification_report\n",
    "from tqdm import tqdm\n",
    "from sklearn.model_selection import train_test_split"
   ]
  },
  {
   "cell_type": "code",
   "execution_count": 2,
   "id": "196a077e",
   "metadata": {},
   "outputs": [
    {
     "name": "stdout",
     "output_type": "stream",
     "text": [
      "YF.download() has changed argument auto_adjust default to True\n"
     ]
    },
    {
     "name": "stderr",
     "output_type": "stream",
     "text": [
      "[*********************100%***********************]  1 of 1 completed\n"
     ]
    }
   ],
   "source": [
    "data = yf.download('AAPL', start='2018-01-01', end='2025-06-01')"
   ]
  },
  {
   "cell_type": "code",
   "execution_count": 3,
   "id": "a2fe69b7",
   "metadata": {},
   "outputs": [
    {
     "name": "stdout",
     "output_type": "stream",
     "text": [
      "Price           Close       High        Low       Open     Volume\n",
      "Ticker           AAPL       AAPL       AAPL       AAPL       AAPL\n",
      "Date                                                             \n",
      "2018-01-02  40.426815  40.436204  39.722760  39.933979  102223600\n",
      "2018-01-03  40.419788  40.964259  40.356426  40.490195  118071600\n",
      "2018-01-04  40.607525  40.710787  40.384575  40.492528   89738400\n",
      "2018-01-05  41.069866  41.156698  40.612231  40.703758   94640000\n",
      "2018-01-08  40.917324  41.213026  40.818753  40.917324   82271200\n"
     ]
    }
   ],
   "source": [
    "print(data.head())"
   ]
  },
  {
   "cell_type": "code",
   "execution_count": 4,
   "id": "3cf4170e",
   "metadata": {},
   "outputs": [],
   "source": [
    "df = data[['Open', 'High', 'Low', 'Close', 'Volume']].copy()"
   ]
  },
  {
   "cell_type": "code",
   "execution_count": 5,
   "id": "ad1994cc",
   "metadata": {},
   "outputs": [
    {
     "name": "stdout",
     "output_type": "stream",
     "text": [
      "<class 'pandas.core.frame.DataFrame'>\n",
      "DatetimeIndex: 1863 entries, 2018-01-02 to 2025-05-30\n",
      "Data columns (total 5 columns):\n",
      " #   Column          Non-Null Count  Dtype  \n",
      "---  ------          --------------  -----  \n",
      " 0   (Open, AAPL)    1863 non-null   float64\n",
      " 1   (High, AAPL)    1863 non-null   float64\n",
      " 2   (Low, AAPL)     1863 non-null   float64\n",
      " 3   (Close, AAPL)   1863 non-null   float64\n",
      " 4   (Volume, AAPL)  1863 non-null   int64  \n",
      "dtypes: float64(4), int64(1)\n",
      "memory usage: 87.3 KB\n"
     ]
    }
   ],
   "source": [
    "df.info()"
   ]
  },
  {
   "cell_type": "code",
   "execution_count": 6,
   "id": "deba5c4b",
   "metadata": {},
   "outputs": [
    {
     "data": {
      "text/plain": [
       "Price   Ticker\n",
       "Open    AAPL      0\n",
       "High    AAPL      0\n",
       "Low     AAPL      0\n",
       "Close   AAPL      0\n",
       "Volume  AAPL      0\n",
       "dtype: int64"
      ]
     },
     "execution_count": 6,
     "metadata": {},
     "output_type": "execute_result"
    }
   ],
   "source": [
    "df.isnull().sum()"
   ]
  },
  {
   "cell_type": "code",
   "execution_count": 7,
   "id": "75579e43",
   "metadata": {},
   "outputs": [
    {
     "data": {
      "text/html": [
       "<div>\n",
       "<style scoped>\n",
       "    .dataframe tbody tr th:only-of-type {\n",
       "        vertical-align: middle;\n",
       "    }\n",
       "\n",
       "    .dataframe tbody tr th {\n",
       "        vertical-align: top;\n",
       "    }\n",
       "\n",
       "    .dataframe thead tr th {\n",
       "        text-align: left;\n",
       "    }\n",
       "</style>\n",
       "<table border=\"1\" class=\"dataframe\">\n",
       "  <thead>\n",
       "    <tr>\n",
       "      <th>Price</th>\n",
       "      <th>Open</th>\n",
       "      <th>High</th>\n",
       "      <th>Low</th>\n",
       "      <th>Close</th>\n",
       "      <th>Volume</th>\n",
       "    </tr>\n",
       "    <tr>\n",
       "      <th>Ticker</th>\n",
       "      <th>AAPL</th>\n",
       "      <th>AAPL</th>\n",
       "      <th>AAPL</th>\n",
       "      <th>AAPL</th>\n",
       "      <th>AAPL</th>\n",
       "    </tr>\n",
       "  </thead>\n",
       "  <tbody>\n",
       "    <tr>\n",
       "      <th>count</th>\n",
       "      <td>1863.000000</td>\n",
       "      <td>1863.000000</td>\n",
       "      <td>1863.000000</td>\n",
       "      <td>1863.000000</td>\n",
       "      <td>1.863000e+03</td>\n",
       "    </tr>\n",
       "    <tr>\n",
       "      <th>mean</th>\n",
       "      <td>127.300563</td>\n",
       "      <td>128.735444</td>\n",
       "      <td>125.980373</td>\n",
       "      <td>127.432247</td>\n",
       "      <td>9.787064e+07</td>\n",
       "    </tr>\n",
       "    <tr>\n",
       "      <th>std</th>\n",
       "      <td>61.763485</td>\n",
       "      <td>62.392101</td>\n",
       "      <td>61.183128</td>\n",
       "      <td>61.837595</td>\n",
       "      <td>5.484645e+07</td>\n",
       "    </tr>\n",
       "    <tr>\n",
       "      <th>min</th>\n",
       "      <td>34.297229</td>\n",
       "      <td>34.711713</td>\n",
       "      <td>33.825578</td>\n",
       "      <td>33.870838</td>\n",
       "      <td>2.323470e+07</td>\n",
       "    </tr>\n",
       "    <tr>\n",
       "      <th>25%</th>\n",
       "      <td>59.622267</td>\n",
       "      <td>60.242862</td>\n",
       "      <td>58.158031</td>\n",
       "      <td>59.401499</td>\n",
       "      <td>6.003700e+07</td>\n",
       "    </tr>\n",
       "    <tr>\n",
       "      <th>50%</th>\n",
       "      <td>138.394745</td>\n",
       "      <td>140.073786</td>\n",
       "      <td>136.009644</td>\n",
       "      <td>138.299835</td>\n",
       "      <td>8.449680e+07</td>\n",
       "    </tr>\n",
       "    <tr>\n",
       "      <th>75%</th>\n",
       "      <td>172.565170</td>\n",
       "      <td>174.630462</td>\n",
       "      <td>171.412979</td>\n",
       "      <td>172.540756</td>\n",
       "      <td>1.188404e+08</td>\n",
       "    </tr>\n",
       "    <tr>\n",
       "      <th>max</th>\n",
       "      <td>257.568678</td>\n",
       "      <td>259.474086</td>\n",
       "      <td>257.010028</td>\n",
       "      <td>258.396667</td>\n",
       "      <td>4.265100e+08</td>\n",
       "    </tr>\n",
       "  </tbody>\n",
       "</table>\n",
       "</div>"
      ],
      "text/plain": [
       "Price          Open         High          Low        Close        Volume\n",
       "Ticker         AAPL         AAPL         AAPL         AAPL          AAPL\n",
       "count   1863.000000  1863.000000  1863.000000  1863.000000  1.863000e+03\n",
       "mean     127.300563   128.735444   125.980373   127.432247  9.787064e+07\n",
       "std       61.763485    62.392101    61.183128    61.837595  5.484645e+07\n",
       "min       34.297229    34.711713    33.825578    33.870838  2.323470e+07\n",
       "25%       59.622267    60.242862    58.158031    59.401499  6.003700e+07\n",
       "50%      138.394745   140.073786   136.009644   138.299835  8.449680e+07\n",
       "75%      172.565170   174.630462   171.412979   172.540756  1.188404e+08\n",
       "max      257.568678   259.474086   257.010028   258.396667  4.265100e+08"
      ]
     },
     "execution_count": 7,
     "metadata": {},
     "output_type": "execute_result"
    }
   ],
   "source": [
    "df.describe()"
   ]
  },
  {
   "cell_type": "code",
   "execution_count": 8,
   "id": "4f205f41",
   "metadata": {},
   "outputs": [
    {
     "data": {
      "text/plain": [
       "(1863, 5)"
      ]
     },
     "execution_count": 8,
     "metadata": {},
     "output_type": "execute_result"
    }
   ],
   "source": [
    "df.shape"
   ]
  },
  {
   "cell_type": "code",
   "execution_count": 9,
   "id": "1470fb91",
   "metadata": {},
   "outputs": [],
   "source": [
    "def computeRSI(data, periods=14):\n",
    "    delta = data.diff()\n",
    "    gain = (delta.where(delta > 0, 0)).rolling(window=periods).mean()\n",
    "    loss = (-delta.where(delta < 0, 0)).rolling(window=periods).mean()\n",
    "    rs = gain / loss\n",
    "    return 100 - (100 / (1 + rs))"
   ]
  },
  {
   "cell_type": "code",
   "execution_count": 10,
   "id": "7e1d5a9a",
   "metadata": {},
   "outputs": [],
   "source": [
    "df['RSI'] = computeRSI(df['Close'])"
   ]
  },
  {
   "cell_type": "code",
   "execution_count": 11,
   "id": "78751b9d",
   "metadata": {},
   "outputs": [],
   "source": [
    "df = df.dropna()"
   ]
  },
  {
   "cell_type": "markdown",
   "id": "f07cbe9b",
   "metadata": {},
   "source": [
    "# Data Preprocessing"
   ]
  },
  {
   "cell_type": "code",
   "execution_count": 12,
   "id": "8825a61e",
   "metadata": {},
   "outputs": [
    {
     "data": {
      "text/html": [
       "<style>#sk-container-id-1 {\n",
       "  /* Definition of color scheme common for light and dark mode */\n",
       "  --sklearn-color-text: #000;\n",
       "  --sklearn-color-text-muted: #666;\n",
       "  --sklearn-color-line: gray;\n",
       "  /* Definition of color scheme for unfitted estimators */\n",
       "  --sklearn-color-unfitted-level-0: #fff5e6;\n",
       "  --sklearn-color-unfitted-level-1: #f6e4d2;\n",
       "  --sklearn-color-unfitted-level-2: #ffe0b3;\n",
       "  --sklearn-color-unfitted-level-3: chocolate;\n",
       "  /* Definition of color scheme for fitted estimators */\n",
       "  --sklearn-color-fitted-level-0: #f0f8ff;\n",
       "  --sklearn-color-fitted-level-1: #d4ebff;\n",
       "  --sklearn-color-fitted-level-2: #b3dbfd;\n",
       "  --sklearn-color-fitted-level-3: cornflowerblue;\n",
       "\n",
       "  /* Specific color for light theme */\n",
       "  --sklearn-color-text-on-default-background: var(--sg-text-color, var(--theme-code-foreground, var(--jp-content-font-color1, black)));\n",
       "  --sklearn-color-background: var(--sg-background-color, var(--theme-background, var(--jp-layout-color0, white)));\n",
       "  --sklearn-color-border-box: var(--sg-text-color, var(--theme-code-foreground, var(--jp-content-font-color1, black)));\n",
       "  --sklearn-color-icon: #696969;\n",
       "\n",
       "  @media (prefers-color-scheme: dark) {\n",
       "    /* Redefinition of color scheme for dark theme */\n",
       "    --sklearn-color-text-on-default-background: var(--sg-text-color, var(--theme-code-foreground, var(--jp-content-font-color1, white)));\n",
       "    --sklearn-color-background: var(--sg-background-color, var(--theme-background, var(--jp-layout-color0, #111)));\n",
       "    --sklearn-color-border-box: var(--sg-text-color, var(--theme-code-foreground, var(--jp-content-font-color1, white)));\n",
       "    --sklearn-color-icon: #878787;\n",
       "  }\n",
       "}\n",
       "\n",
       "#sk-container-id-1 {\n",
       "  color: var(--sklearn-color-text);\n",
       "}\n",
       "\n",
       "#sk-container-id-1 pre {\n",
       "  padding: 0;\n",
       "}\n",
       "\n",
       "#sk-container-id-1 input.sk-hidden--visually {\n",
       "  border: 0;\n",
       "  clip: rect(1px 1px 1px 1px);\n",
       "  clip: rect(1px, 1px, 1px, 1px);\n",
       "  height: 1px;\n",
       "  margin: -1px;\n",
       "  overflow: hidden;\n",
       "  padding: 0;\n",
       "  position: absolute;\n",
       "  width: 1px;\n",
       "}\n",
       "\n",
       "#sk-container-id-1 div.sk-dashed-wrapped {\n",
       "  border: 1px dashed var(--sklearn-color-line);\n",
       "  margin: 0 0.4em 0.5em 0.4em;\n",
       "  box-sizing: border-box;\n",
       "  padding-bottom: 0.4em;\n",
       "  background-color: var(--sklearn-color-background);\n",
       "}\n",
       "\n",
       "#sk-container-id-1 div.sk-container {\n",
       "  /* jupyter's `normalize.less` sets `[hidden] { display: none; }`\n",
       "     but bootstrap.min.css set `[hidden] { display: none !important; }`\n",
       "     so we also need the `!important` here to be able to override the\n",
       "     default hidden behavior on the sphinx rendered scikit-learn.org.\n",
       "     See: https://github.com/scikit-learn/scikit-learn/issues/21755 */\n",
       "  display: inline-block !important;\n",
       "  position: relative;\n",
       "}\n",
       "\n",
       "#sk-container-id-1 div.sk-text-repr-fallback {\n",
       "  display: none;\n",
       "}\n",
       "\n",
       "div.sk-parallel-item,\n",
       "div.sk-serial,\n",
       "div.sk-item {\n",
       "  /* draw centered vertical line to link estimators */\n",
       "  background-image: linear-gradient(var(--sklearn-color-text-on-default-background), var(--sklearn-color-text-on-default-background));\n",
       "  background-size: 2px 100%;\n",
       "  background-repeat: no-repeat;\n",
       "  background-position: center center;\n",
       "}\n",
       "\n",
       "/* Parallel-specific style estimator block */\n",
       "\n",
       "#sk-container-id-1 div.sk-parallel-item::after {\n",
       "  content: \"\";\n",
       "  width: 100%;\n",
       "  border-bottom: 2px solid var(--sklearn-color-text-on-default-background);\n",
       "  flex-grow: 1;\n",
       "}\n",
       "\n",
       "#sk-container-id-1 div.sk-parallel {\n",
       "  display: flex;\n",
       "  align-items: stretch;\n",
       "  justify-content: center;\n",
       "  background-color: var(--sklearn-color-background);\n",
       "  position: relative;\n",
       "}\n",
       "\n",
       "#sk-container-id-1 div.sk-parallel-item {\n",
       "  display: flex;\n",
       "  flex-direction: column;\n",
       "}\n",
       "\n",
       "#sk-container-id-1 div.sk-parallel-item:first-child::after {\n",
       "  align-self: flex-end;\n",
       "  width: 50%;\n",
       "}\n",
       "\n",
       "#sk-container-id-1 div.sk-parallel-item:last-child::after {\n",
       "  align-self: flex-start;\n",
       "  width: 50%;\n",
       "}\n",
       "\n",
       "#sk-container-id-1 div.sk-parallel-item:only-child::after {\n",
       "  width: 0;\n",
       "}\n",
       "\n",
       "/* Serial-specific style estimator block */\n",
       "\n",
       "#sk-container-id-1 div.sk-serial {\n",
       "  display: flex;\n",
       "  flex-direction: column;\n",
       "  align-items: center;\n",
       "  background-color: var(--sklearn-color-background);\n",
       "  padding-right: 1em;\n",
       "  padding-left: 1em;\n",
       "}\n",
       "\n",
       "\n",
       "/* Toggleable style: style used for estimator/Pipeline/ColumnTransformer box that is\n",
       "clickable and can be expanded/collapsed.\n",
       "- Pipeline and ColumnTransformer use this feature and define the default style\n",
       "- Estimators will overwrite some part of the style using the `sk-estimator` class\n",
       "*/\n",
       "\n",
       "/* Pipeline and ColumnTransformer style (default) */\n",
       "\n",
       "#sk-container-id-1 div.sk-toggleable {\n",
       "  /* Default theme specific background. It is overwritten whether we have a\n",
       "  specific estimator or a Pipeline/ColumnTransformer */\n",
       "  background-color: var(--sklearn-color-background);\n",
       "}\n",
       "\n",
       "/* Toggleable label */\n",
       "#sk-container-id-1 label.sk-toggleable__label {\n",
       "  cursor: pointer;\n",
       "  display: flex;\n",
       "  width: 100%;\n",
       "  margin-bottom: 0;\n",
       "  padding: 0.5em;\n",
       "  box-sizing: border-box;\n",
       "  text-align: center;\n",
       "  align-items: start;\n",
       "  justify-content: space-between;\n",
       "  gap: 0.5em;\n",
       "}\n",
       "\n",
       "#sk-container-id-1 label.sk-toggleable__label .caption {\n",
       "  font-size: 0.6rem;\n",
       "  font-weight: lighter;\n",
       "  color: var(--sklearn-color-text-muted);\n",
       "}\n",
       "\n",
       "#sk-container-id-1 label.sk-toggleable__label-arrow:before {\n",
       "  /* Arrow on the left of the label */\n",
       "  content: \"▸\";\n",
       "  float: left;\n",
       "  margin-right: 0.25em;\n",
       "  color: var(--sklearn-color-icon);\n",
       "}\n",
       "\n",
       "#sk-container-id-1 label.sk-toggleable__label-arrow:hover:before {\n",
       "  color: var(--sklearn-color-text);\n",
       "}\n",
       "\n",
       "/* Toggleable content - dropdown */\n",
       "\n",
       "#sk-container-id-1 div.sk-toggleable__content {\n",
       "  max-height: 0;\n",
       "  max-width: 0;\n",
       "  overflow: hidden;\n",
       "  text-align: left;\n",
       "  /* unfitted */\n",
       "  background-color: var(--sklearn-color-unfitted-level-0);\n",
       "}\n",
       "\n",
       "#sk-container-id-1 div.sk-toggleable__content.fitted {\n",
       "  /* fitted */\n",
       "  background-color: var(--sklearn-color-fitted-level-0);\n",
       "}\n",
       "\n",
       "#sk-container-id-1 div.sk-toggleable__content pre {\n",
       "  margin: 0.2em;\n",
       "  border-radius: 0.25em;\n",
       "  color: var(--sklearn-color-text);\n",
       "  /* unfitted */\n",
       "  background-color: var(--sklearn-color-unfitted-level-0);\n",
       "}\n",
       "\n",
       "#sk-container-id-1 div.sk-toggleable__content.fitted pre {\n",
       "  /* unfitted */\n",
       "  background-color: var(--sklearn-color-fitted-level-0);\n",
       "}\n",
       "\n",
       "#sk-container-id-1 input.sk-toggleable__control:checked~div.sk-toggleable__content {\n",
       "  /* Expand drop-down */\n",
       "  max-height: 200px;\n",
       "  max-width: 100%;\n",
       "  overflow: auto;\n",
       "}\n",
       "\n",
       "#sk-container-id-1 input.sk-toggleable__control:checked~label.sk-toggleable__label-arrow:before {\n",
       "  content: \"▾\";\n",
       "}\n",
       "\n",
       "/* Pipeline/ColumnTransformer-specific style */\n",
       "\n",
       "#sk-container-id-1 div.sk-label input.sk-toggleable__control:checked~label.sk-toggleable__label {\n",
       "  color: var(--sklearn-color-text);\n",
       "  background-color: var(--sklearn-color-unfitted-level-2);\n",
       "}\n",
       "\n",
       "#sk-container-id-1 div.sk-label.fitted input.sk-toggleable__control:checked~label.sk-toggleable__label {\n",
       "  background-color: var(--sklearn-color-fitted-level-2);\n",
       "}\n",
       "\n",
       "/* Estimator-specific style */\n",
       "\n",
       "/* Colorize estimator box */\n",
       "#sk-container-id-1 div.sk-estimator input.sk-toggleable__control:checked~label.sk-toggleable__label {\n",
       "  /* unfitted */\n",
       "  background-color: var(--sklearn-color-unfitted-level-2);\n",
       "}\n",
       "\n",
       "#sk-container-id-1 div.sk-estimator.fitted input.sk-toggleable__control:checked~label.sk-toggleable__label {\n",
       "  /* fitted */\n",
       "  background-color: var(--sklearn-color-fitted-level-2);\n",
       "}\n",
       "\n",
       "#sk-container-id-1 div.sk-label label.sk-toggleable__label,\n",
       "#sk-container-id-1 div.sk-label label {\n",
       "  /* The background is the default theme color */\n",
       "  color: var(--sklearn-color-text-on-default-background);\n",
       "}\n",
       "\n",
       "/* On hover, darken the color of the background */\n",
       "#sk-container-id-1 div.sk-label:hover label.sk-toggleable__label {\n",
       "  color: var(--sklearn-color-text);\n",
       "  background-color: var(--sklearn-color-unfitted-level-2);\n",
       "}\n",
       "\n",
       "/* Label box, darken color on hover, fitted */\n",
       "#sk-container-id-1 div.sk-label.fitted:hover label.sk-toggleable__label.fitted {\n",
       "  color: var(--sklearn-color-text);\n",
       "  background-color: var(--sklearn-color-fitted-level-2);\n",
       "}\n",
       "\n",
       "/* Estimator label */\n",
       "\n",
       "#sk-container-id-1 div.sk-label label {\n",
       "  font-family: monospace;\n",
       "  font-weight: bold;\n",
       "  display: inline-block;\n",
       "  line-height: 1.2em;\n",
       "}\n",
       "\n",
       "#sk-container-id-1 div.sk-label-container {\n",
       "  text-align: center;\n",
       "}\n",
       "\n",
       "/* Estimator-specific */\n",
       "#sk-container-id-1 div.sk-estimator {\n",
       "  font-family: monospace;\n",
       "  border: 1px dotted var(--sklearn-color-border-box);\n",
       "  border-radius: 0.25em;\n",
       "  box-sizing: border-box;\n",
       "  margin-bottom: 0.5em;\n",
       "  /* unfitted */\n",
       "  background-color: var(--sklearn-color-unfitted-level-0);\n",
       "}\n",
       "\n",
       "#sk-container-id-1 div.sk-estimator.fitted {\n",
       "  /* fitted */\n",
       "  background-color: var(--sklearn-color-fitted-level-0);\n",
       "}\n",
       "\n",
       "/* on hover */\n",
       "#sk-container-id-1 div.sk-estimator:hover {\n",
       "  /* unfitted */\n",
       "  background-color: var(--sklearn-color-unfitted-level-2);\n",
       "}\n",
       "\n",
       "#sk-container-id-1 div.sk-estimator.fitted:hover {\n",
       "  /* fitted */\n",
       "  background-color: var(--sklearn-color-fitted-level-2);\n",
       "}\n",
       "\n",
       "/* Specification for estimator info (e.g. \"i\" and \"?\") */\n",
       "\n",
       "/* Common style for \"i\" and \"?\" */\n",
       "\n",
       ".sk-estimator-doc-link,\n",
       "a:link.sk-estimator-doc-link,\n",
       "a:visited.sk-estimator-doc-link {\n",
       "  float: right;\n",
       "  font-size: smaller;\n",
       "  line-height: 1em;\n",
       "  font-family: monospace;\n",
       "  background-color: var(--sklearn-color-background);\n",
       "  border-radius: 1em;\n",
       "  height: 1em;\n",
       "  width: 1em;\n",
       "  text-decoration: none !important;\n",
       "  margin-left: 0.5em;\n",
       "  text-align: center;\n",
       "  /* unfitted */\n",
       "  border: var(--sklearn-color-unfitted-level-1) 1pt solid;\n",
       "  color: var(--sklearn-color-unfitted-level-1);\n",
       "}\n",
       "\n",
       ".sk-estimator-doc-link.fitted,\n",
       "a:link.sk-estimator-doc-link.fitted,\n",
       "a:visited.sk-estimator-doc-link.fitted {\n",
       "  /* fitted */\n",
       "  border: var(--sklearn-color-fitted-level-1) 1pt solid;\n",
       "  color: var(--sklearn-color-fitted-level-1);\n",
       "}\n",
       "\n",
       "/* On hover */\n",
       "div.sk-estimator:hover .sk-estimator-doc-link:hover,\n",
       ".sk-estimator-doc-link:hover,\n",
       "div.sk-label-container:hover .sk-estimator-doc-link:hover,\n",
       ".sk-estimator-doc-link:hover {\n",
       "  /* unfitted */\n",
       "  background-color: var(--sklearn-color-unfitted-level-3);\n",
       "  color: var(--sklearn-color-background);\n",
       "  text-decoration: none;\n",
       "}\n",
       "\n",
       "div.sk-estimator.fitted:hover .sk-estimator-doc-link.fitted:hover,\n",
       ".sk-estimator-doc-link.fitted:hover,\n",
       "div.sk-label-container:hover .sk-estimator-doc-link.fitted:hover,\n",
       ".sk-estimator-doc-link.fitted:hover {\n",
       "  /* fitted */\n",
       "  background-color: var(--sklearn-color-fitted-level-3);\n",
       "  color: var(--sklearn-color-background);\n",
       "  text-decoration: none;\n",
       "}\n",
       "\n",
       "/* Span, style for the box shown on hovering the info icon */\n",
       ".sk-estimator-doc-link span {\n",
       "  display: none;\n",
       "  z-index: 9999;\n",
       "  position: relative;\n",
       "  font-weight: normal;\n",
       "  right: .2ex;\n",
       "  padding: .5ex;\n",
       "  margin: .5ex;\n",
       "  width: min-content;\n",
       "  min-width: 20ex;\n",
       "  max-width: 50ex;\n",
       "  color: var(--sklearn-color-text);\n",
       "  box-shadow: 2pt 2pt 4pt #999;\n",
       "  /* unfitted */\n",
       "  background: var(--sklearn-color-unfitted-level-0);\n",
       "  border: .5pt solid var(--sklearn-color-unfitted-level-3);\n",
       "}\n",
       "\n",
       ".sk-estimator-doc-link.fitted span {\n",
       "  /* fitted */\n",
       "  background: var(--sklearn-color-fitted-level-0);\n",
       "  border: var(--sklearn-color-fitted-level-3);\n",
       "}\n",
       "\n",
       ".sk-estimator-doc-link:hover span {\n",
       "  display: block;\n",
       "}\n",
       "\n",
       "/* \"?\"-specific style due to the `<a>` HTML tag */\n",
       "\n",
       "#sk-container-id-1 a.estimator_doc_link {\n",
       "  float: right;\n",
       "  font-size: 1rem;\n",
       "  line-height: 1em;\n",
       "  font-family: monospace;\n",
       "  background-color: var(--sklearn-color-background);\n",
       "  border-radius: 1rem;\n",
       "  height: 1rem;\n",
       "  width: 1rem;\n",
       "  text-decoration: none;\n",
       "  /* unfitted */\n",
       "  color: var(--sklearn-color-unfitted-level-1);\n",
       "  border: var(--sklearn-color-unfitted-level-1) 1pt solid;\n",
       "}\n",
       "\n",
       "#sk-container-id-1 a.estimator_doc_link.fitted {\n",
       "  /* fitted */\n",
       "  border: var(--sklearn-color-fitted-level-1) 1pt solid;\n",
       "  color: var(--sklearn-color-fitted-level-1);\n",
       "}\n",
       "\n",
       "/* On hover */\n",
       "#sk-container-id-1 a.estimator_doc_link:hover {\n",
       "  /* unfitted */\n",
       "  background-color: var(--sklearn-color-unfitted-level-3);\n",
       "  color: var(--sklearn-color-background);\n",
       "  text-decoration: none;\n",
       "}\n",
       "\n",
       "#sk-container-id-1 a.estimator_doc_link.fitted:hover {\n",
       "  /* fitted */\n",
       "  background-color: var(--sklearn-color-fitted-level-3);\n",
       "}\n",
       "</style><div id=\"sk-container-id-1\" class=\"sk-top-container\"><div class=\"sk-text-repr-fallback\"><pre>MinMaxScaler()</pre><b>In a Jupyter environment, please rerun this cell to show the HTML representation or trust the notebook. <br />On GitHub, the HTML representation is unable to render, please try loading this page with nbviewer.org.</b></div><div class=\"sk-container\" hidden><div class=\"sk-item\"><div class=\"sk-estimator fitted sk-toggleable\"><input class=\"sk-toggleable__control sk-hidden--visually\" id=\"sk-estimator-id-1\" type=\"checkbox\" checked><label for=\"sk-estimator-id-1\" class=\"sk-toggleable__label fitted sk-toggleable__label-arrow\"><div><div>MinMaxScaler</div></div><div><a class=\"sk-estimator-doc-link fitted\" rel=\"noreferrer\" target=\"_blank\" href=\"https://scikit-learn.org/1.6/modules/generated/sklearn.preprocessing.MinMaxScaler.html\">?<span>Documentation for MinMaxScaler</span></a><span class=\"sk-estimator-doc-link fitted\">i<span>Fitted</span></span></div></label><div class=\"sk-toggleable__content fitted\"><pre>MinMaxScaler()</pre></div> </div></div></div></div>"
      ],
      "text/plain": [
       "MinMaxScaler()"
      ]
     },
     "execution_count": 12,
     "metadata": {},
     "output_type": "execute_result"
    }
   ],
   "source": [
    "scaler = MinMaxScaler()\n",
    "dfScaled = pd.DataFrame(scaler.fit_transform(df), columns=df.columns)\n",
    "closeScaler = MinMaxScaler()\n",
    "closeScaler.fit(df[['Close']])"
   ]
  },
  {
   "cell_type": "markdown",
   "id": "ca41745c",
   "metadata": {},
   "source": [
    "# create sequences e.g., 60-day windows"
   ]
  },
  {
   "cell_type": "code",
   "execution_count": 13,
   "id": "b713f891",
   "metadata": {},
   "outputs": [],
   "source": [
    "def createSequences(data, seqLength=60):\n",
    "    X, y = [], []\n",
    "    for i in range(len(data) - seqLength):\n",
    "        X.append(data[i:i + seqLength, [0, 1, 2, 4, 5]])\n",
    "        #X.append(data[i:i + seqLength]) # Shape: [seqLenght, 5]\n",
    "        y.append(data[i + seqLength, 3]) # Index 3 is Close\n",
    "    \n",
    "    return np.array(X), np.array(y)"
   ]
  },
  {
   "cell_type": "code",
   "execution_count": 14,
   "id": "d6edbff7",
   "metadata": {},
   "outputs": [
    {
     "name": "stdout",
     "output_type": "stream",
     "text": [
      "X shape: (1790, 60, 5), y shape: (1790,)\n"
     ]
    }
   ],
   "source": [
    "#features = dfScaled[['Open', 'High', 'Low', 'Close', 'Volume']].values\n",
    "features = dfScaled[['Open', 'High', 'Low', 'Close', 'Volume', 'RSI']].values\n",
    "\n",
    "X, y = createSequences(features)\n",
    "print(f\"X shape: {X.shape}, y shape: {y.shape}\")"
   ]
  },
  {
   "cell_type": "markdown",
   "id": "8be1adc0",
   "metadata": {},
   "source": [
    "# Create train test splits"
   ]
  },
  {
   "cell_type": "code",
   "execution_count": 15,
   "id": "feb4ccce",
   "metadata": {},
   "outputs": [],
   "source": [
    "X_train, X_test, y_train, y_test = train_test_split(X, y, test_size=0.2, random_state=42)"
   ]
  },
  {
   "cell_type": "markdown",
   "id": "d4e64af1",
   "metadata": {},
   "source": [
    "# Convert to tensors"
   ]
  },
  {
   "cell_type": "code",
   "execution_count": 16,
   "id": "3193dd77",
   "metadata": {},
   "outputs": [],
   "source": [
    "device = 'cuda' if torch.cuda.is_available() else 'cpu'"
   ]
  },
  {
   "cell_type": "code",
   "execution_count": 17,
   "id": "16878f29",
   "metadata": {},
   "outputs": [
    {
     "name": "stdout",
     "output_type": "stream",
     "text": [
      "X_trainTensor shape: torch.Size([1432, 60, 5])\n"
     ]
    }
   ],
   "source": [
    "X_trainTensor = torch.tensor(X_train, dtype=torch.float32).to(device)\n",
    "X_testTensor = torch.tensor(X_test, dtype=torch.float32).to(device)\n",
    "y_trainTensor = torch.tensor(y_train, dtype=torch.float32).to(device)\n",
    "y_testTensor = torch.tensor(y_test, dtype=torch.float32).to(device)\n",
    "print(\"X_trainTensor shape:\", X_trainTensor.shape)  # Debug\n"
   ]
  },
  {
   "cell_type": "markdown",
   "id": "b968ce5d",
   "metadata": {},
   "source": [
    "# Create Model\n",
    "\n",
    "## Using LSTM (Long Short-Term Memory) \n",
    "Reasons for using LSTM is thats its a type of recurrent neural network (RNN). That is effective at handling time series data."
   ]
  },
  {
   "cell_type": "code",
   "execution_count": 86,
   "id": "b7e3f7ce",
   "metadata": {},
   "outputs": [],
   "source": [
    "class StockLSTM(nn.Module):\n",
    "    def __init__(self, inputSize=5, hiddenUnits=100, dropout1=0.2, dropout2=0.2):\n",
    "        super(StockLSTM, self).__init__()\n",
    "        # First LSTM layer\n",
    "        self.lstm1 = nn.LSTM(inputSize, hiddenUnits, num_layers=1, batch_first=True)\n",
    "        # Second LSTM layer\n",
    "        self.lstm2 = nn.LSTM(hiddenUnits, hiddenUnits, num_layers=1, batch_first=True)\n",
    "        # Third LSTM layer \n",
    "        self.lstm3 = nn.LSTM(hiddenUnits, hiddenUnits, num_layers=1, batch_first=True) # No dropout for last\n",
    "\n",
    "        # Fully connected layer\n",
    "        self.fc = nn.Linear(hiddenUnits, 1) \n",
    "\n",
    "    def forward(self, x):\n",
    "        # Pass through first LSTM\n",
    "        # out1 will have shape (batch_size, sequence_length, hiddenUnits)\n",
    "        out1, _ = self.lstm1(x)\n",
    "\n",
    "        # Pass the output of lstm1 as input to lstm2\n",
    "        out2, _ = self.lstm2(out1)\n",
    "\n",
    "        # Pass the output of lstm2 as input to lstm3\n",
    "        out3, _ = self.lstm3(out2)\n",
    "\n",
    "        # Take the output of the *last* time step from the *last* LSTM layer (lstm3)\n",
    "        final_output = out3[:, -1, :] # Shape: (batch_size, hidden_units)\n",
    "\n",
    "        # Pass to fully connected layer\n",
    "        prediction = self.fc(final_output)\n",
    "        return prediction"
   ]
  },
  {
   "cell_type": "markdown",
   "id": "fa6313b6",
   "metadata": {},
   "source": [
    "# Training Loop Function"
   ]
  },
  {
   "cell_type": "code",
   "execution_count": 19,
   "id": "4ea0993f",
   "metadata": {},
   "outputs": [],
   "source": [
    "def train(model, X_train, y_train, X_test, y_test, loss_fn, epochs, optimizer, device):\n",
    "    model.to(device)\n",
    "    trainDataset = TensorDataset(X_train, y_train)\n",
    "    trainLoader = DataLoader(trainDataset, batch_size=32, shuffle=True)\n",
    "\n",
    "    trainLosses = []\n",
    "    for epoch in tqdm(range(epochs)):\n",
    "        model.train()\n",
    "        epochLoss = 0\n",
    "        for X_batch, y_batch in trainLoader:\n",
    "            X_batch, y_batch = X_batch.to(device), y_batch.to(device)\n",
    "            y_pred = model(X_batch)\n",
    "            loss = loss_fn(y_pred, y_batch.unsqueeze(1)) # Make sure y_batch shape matches\n",
    "            optimizer.zero_grad()\n",
    "            loss.backward()\n",
    "            optimizer.step()\n",
    "            epochLoss += loss.item()\n",
    "        \n",
    "        trainLosses.append(epochLoss / len(trainLoader))\n",
    "        if epoch % 10 == 0:\n",
    "            print(f'Epoch: {epoch}, Train Loss: {trainLosses[-1]:.4f}')\n",
    "\n",
    "    return trainLosses"
   ]
  },
  {
   "cell_type": "markdown",
   "id": "aa0d1a34",
   "metadata": {},
   "source": [
    "# Train Model"
   ]
  },
  {
   "cell_type": "code",
   "execution_count": 87,
   "id": "dc979834",
   "metadata": {},
   "outputs": [
    {
     "name": "stderr",
     "output_type": "stream",
     "text": [
      "  0%|          | 0/100 [00:00<?, ?it/s]"
     ]
    },
    {
     "name": "stderr",
     "output_type": "stream",
     "text": [
      "  2%|▏         | 2/100 [00:00<00:21,  4.62it/s]"
     ]
    },
    {
     "name": "stdout",
     "output_type": "stream",
     "text": [
      "Epoch: 0, Train Loss: 0.0510\n"
     ]
    },
    {
     "name": "stderr",
     "output_type": "stream",
     "text": [
      " 12%|█▏        | 12/100 [00:01<00:12,  7.27it/s]"
     ]
    },
    {
     "name": "stdout",
     "output_type": "stream",
     "text": [
      "Epoch: 10, Train Loss: 0.0005\n"
     ]
    },
    {
     "name": "stderr",
     "output_type": "stream",
     "text": [
      " 22%|██▏       | 22/100 [00:03<00:10,  7.56it/s]"
     ]
    },
    {
     "name": "stdout",
     "output_type": "stream",
     "text": [
      "Epoch: 20, Train Loss: 0.0004\n"
     ]
    },
    {
     "name": "stderr",
     "output_type": "stream",
     "text": [
      " 32%|███▏      | 32/100 [00:04<00:09,  7.49it/s]"
     ]
    },
    {
     "name": "stdout",
     "output_type": "stream",
     "text": [
      "Epoch: 30, Train Loss: 0.0003\n"
     ]
    },
    {
     "name": "stderr",
     "output_type": "stream",
     "text": [
      " 42%|████▏     | 42/100 [00:05<00:08,  6.96it/s]"
     ]
    },
    {
     "name": "stdout",
     "output_type": "stream",
     "text": [
      "Epoch: 40, Train Loss: 0.0003\n"
     ]
    },
    {
     "name": "stderr",
     "output_type": "stream",
     "text": [
      " 52%|█████▏    | 52/100 [00:07<00:06,  7.24it/s]"
     ]
    },
    {
     "name": "stdout",
     "output_type": "stream",
     "text": [
      "Epoch: 50, Train Loss: 0.0002\n"
     ]
    },
    {
     "name": "stderr",
     "output_type": "stream",
     "text": [
      " 62%|██████▏   | 62/100 [00:08<00:05,  7.33it/s]"
     ]
    },
    {
     "name": "stdout",
     "output_type": "stream",
     "text": [
      "Epoch: 60, Train Loss: 0.0002\n"
     ]
    },
    {
     "name": "stderr",
     "output_type": "stream",
     "text": [
      " 72%|███████▏  | 72/100 [00:09<00:03,  7.40it/s]"
     ]
    },
    {
     "name": "stdout",
     "output_type": "stream",
     "text": [
      "Epoch: 70, Train Loss: 0.0002\n"
     ]
    },
    {
     "name": "stderr",
     "output_type": "stream",
     "text": [
      " 82%|████████▏ | 82/100 [00:11<00:02,  7.43it/s]"
     ]
    },
    {
     "name": "stdout",
     "output_type": "stream",
     "text": [
      "Epoch: 80, Train Loss: 0.0002\n"
     ]
    },
    {
     "name": "stderr",
     "output_type": "stream",
     "text": [
      " 92%|█████████▏| 92/100 [00:12<00:01,  7.38it/s]"
     ]
    },
    {
     "name": "stdout",
     "output_type": "stream",
     "text": [
      "Epoch: 90, Train Loss: 0.0002\n"
     ]
    },
    {
     "name": "stderr",
     "output_type": "stream",
     "text": [
      "100%|██████████| 100/100 [00:13<00:00,  7.27it/s]\n"
     ]
    }
   ],
   "source": [
    "model1 = StockLSTM(inputSize=5, hiddenUnits=100)\n",
    "loss_fn = nn.MSELoss()\n",
    "optimizer = torch.optim.Adam(model1.parameters(), lr=0.001)\n",
    "resultsTrain = train(\n",
    "                model1, \n",
    "                X_trainTensor,\n",
    "                y_trainTensor,\n",
    "                X_testTensor, \n",
    "                y_testTensor, \n",
    "                loss_fn=loss_fn, \n",
    "                epochs=100, \n",
    "                optimizer=optimizer, \n",
    "                device=device\n",
    "            )"
   ]
  },
  {
   "cell_type": "markdown",
   "id": "dc76a87f",
   "metadata": {},
   "source": [
    "# Evaluate Model"
   ]
  },
  {
   "cell_type": "code",
   "execution_count": 63,
   "id": "25e603aa",
   "metadata": {},
   "outputs": [],
   "source": [
    "def evaluateModel(model, X_test, y_test, scaler, device):\n",
    "    model.eval()\n",
    "    with torch.no_grad():\n",
    "        preds = model(X_test).cpu().numpy()\n",
    "        y_testNp = y_test.cpu().numpy()\n",
    "    \n",
    "    preds = scaler.inverse_transform(preds)\n",
    "    y_testNp = scaler.inverse_transform(y_testNp.reshape(-1, 1))\n",
    "    mae = mean_absolute_error(y_testNp, preds)\n",
    "    rmse = np.sqrt(mean_squared_error(y_testNp, preds))\n",
    "    maePercentage = (mae / np.mean(y_testNp)) * 100\n",
    "    print(f'MAE: {mae:.4f}, RMSE: {rmse:.4f}, MAE %: {maePercentage:.2f}%')\n",
    "\n",
    "    return preds, y_testNp, mae, rmse"
   ]
  },
  {
   "cell_type": "code",
   "execution_count": 88,
   "id": "480953f0",
   "metadata": {},
   "outputs": [
    {
     "name": "stdout",
     "output_type": "stream",
     "text": [
      "MAE: 1.8379, RMSE: 2.5498, MAE %: 1.40%\n"
     ]
    }
   ],
   "source": [
    "predictions, y_testNp, mae, rmse = evaluateModel(model1, X_testTensor, y_testTensor, closeScaler, device)"
   ]
  },
  {
   "cell_type": "markdown",
   "id": "58888043",
   "metadata": {},
   "source": [
    "# Plot Predictions"
   ]
  },
  {
   "cell_type": "code",
   "execution_count": 42,
   "id": "21f00d2f",
   "metadata": {},
   "outputs": [],
   "source": [
    "def plotPredictions(actual, predicted, title='AAPL Close Price Forecasting', savePath='plot'):\n",
    "    fig = go.Figure()\n",
    "    fig.add_trace(go.Scatter(y=actual.flatten(), name='Actual Close Prices', line=dict(color='blue')))\n",
    "    fig.add_trace(go.Scatter(y=predicted.flatten(), name='Predicted Close Prices', line=dict(color='orange')))\n",
    "    fig.update_layout(\n",
    "        title=title,\n",
    "        xaxis_title='Time',\n",
    "        yaxis_title='Close Price (USD)',\n",
    "        template='plotly_dark',\n",
    "        hovermode='x unified'\n",
    "    )\n",
    "\n",
    "    fig.show()"
   ]
  },
  {
   "cell_type": "code",
   "execution_count": 89,
   "id": "ad69c235",
   "metadata": {},
   "outputs": [
    {
     "data": {
      "application/vnd.plotly.v1+json": {
       "config": {
        "plotlyServerURL": "https://plot.ly"
       },
       "data": [
        {
         "line": {
          "color": "blue"
         },
         "name": "Actual Close Prices",
         "type": "scatter",
         "y": {
          "bdata": "EEksQ4wDQEMnVm9C1iOMQnAlOUO3uwNDdiBBQ0zHD0Mp3E5DqN2cQpBG+EILYUJCJCibQgY4SEKcbmtDz/woQ3k4v0Lq5w9DknfnQt23EENBc35CXwEoQ3GYFEOcLmND8mliQ/aQI0KPjdtC1avuQg1mN0L7iiBCKOfWQmYTgUI14C9DzvZXQvOJSULeB+FCGUJhQ4znC0JAXSpDDyQ1QrtQaENHrDpDw8E+Qi0vREKFoyZDV7JhQ1cAN0LpAj5DIz5VQxBhPkJybC1Dk91MQt3tN0MtrE5CkXsBQ06+QkKvaTFCRbscQxPuVEOjtDRCY94oQ+SQA0N2DkdCruHfQpz0DUNwdSVDKHoUQ/OwKEMDTjJDHAN+QrgmD0PVkmJDM04pQwEAmkLm6ypDeyx3Q8ehE0IZjkhCfY7hQufPKUP/jFxDahrcQmI9aEMwiTFCyQY6Q0JPaEOtnCtDGiJTQsXs/0JXJylDSwgTQ1iNPkMmwkBDex4OQynWWkMBXgBDnP/fQgOXNEJQ+VJChN9qQuC7lkL1RhNDxcFuQ+6+P0PxLzFDGdIoQyn+D0NPlC9CQyJ1Qqg5A0PW+S9DnjsuQ2TB/UKDuhJD82gtQ1gd80K1yVdCsDcTQ+cXDEPz7lJDooeaQrncREJpwQVDCHcjQ5jgIkKRKCNDpkIUQ/tMbUKyhklCFNodQxRZJEPblDJDYI6WQjGlcEL6/WJDAL2GQmq3dkPe5VJCrIpGQj7uUkKjQC5CFQ4RQwCZV0KSZflCWEToQv9wIkN16yNDEwgJQ1+3O0O/4hFDO0uQQq4rPkMf1jhDrRlEQolKDkM+xGNC4Kg+QjzKUkMFwzdC9dSFQjBOsUIqnilDg9SBQtlsckPE+wpDM3NTQwu+l0IMBChDOYBTQyGYe0KJ0kVCVGlUQ950N0NHHBRDyGcRQ6CCJkN0MYxCLQseQx0dJUNLjSNDES9oQ9yX7UIS0TBCPa0NQ1r8L0OQbAJDLdgkQ6+DTkL+ERhDjPQtQ/kgUkIA2CtDnRnrQuqTGUMV8ZlCFBPhQgkt+UIdNRxCdhAwQ58IakJIJH1CrhpeQ5lHdENhW+FCbQFiQ8hWW0PdNVVDiII1Qhf3IkNbIxVD0rAjQoLgCEPX9ydCUvxhQw1WPkNjGxFC0fQ8Q3yJFkP0bjdDdncwQp8BAEPWfSxD4LdtQ1RwJ0NdYhNCqFgSQ1JOK0PL0TZCwMA0Qt/5F0MclWhDUUlhQz6tYUPR8xpD19Y+QzOKOkI5qjNDUlBBQuSfS0I9/WxDD4BJQojjO0MTzPFC40YcQ8l8akKx9R5DKOFgQ5Rv9kLYj1hCVWwLQ7USokKR3TtCO0YiQ2ULN0NerQJDU6lXQwkbPUP9gSxDmUMQQ++dNkLtYWdCJVOxQtmqAkMyvSVDsqgVQ7H3CEPX9B5D1cJBQ/x8+UJNsw5D44D/Quf3KEM3DzdDWK0sQ87VO0OrL+1Ce2c9Q1Z7ukLHnJpCXCE/Q8gjSELbPvNCXak5QlfyHkNmmYdC8JgxQ0sxQENiVwVDbwCOQnGxM0KwR2xDawZAQsMmL0L1YFhC509BQh5340JX1DhDYV0vQ8XsEUPviBZDBPCCQnp9L0PP1l1DqPEfQwsib0IbaYdCx4YUQxZaNUNmH9xCJcbSQgAFnkLTe0FCdzUUQ8YygUNvQXJDiCedQse3BUMzc/lCfpc2QreLEkJbbgBDy3o/QhKQGUPxcZtCPAQEQ2PdUUMt7CFDUfiwQqCMdEPoERlDguNBQ4QqOEOOqj5C55EuQz0jC0OGW+ZCKMoVQzX0UEIVoxpDsKHQQvMyE0OkeAFD2/MrQyjTEkNqJyFDI00ZQhJpDUOux1BDDBVjQwjfP0KWb3pDPzyBQkI0l0L0DPhCChdKQw5lCkPLJApDz4gqQw==",
          "dtype": "f4"
         }
        },
        {
         "line": {
          "color": "orange"
         },
         "name": "Predicted Close Prices",
         "type": "scatter",
         "y": {
          "bdata": "GU8qQxvbO0PecWRCC0WMQoHSNUM4VQNDTWY/Q8QFEEOgiUxDPBGcQu9B+kJeOEVC6gyaQpn/UkJoKG1DjiQqQ01uv0L0xA5Db5fnQgRtDkODz21CNg4lQ0JFFENbMG1DwUtiQ7lwJ0J1W9hCGQnrQvPSOEKWfytCNnDfQoReg0KO9SlDOklWQgWkSEKkMd9C425fQ9EeGUItRCtDbDg4Qh15ZUMJ8jtDrP5GQtPjRkIBgShDHMthQ12rN0JxVz9DpV1VQ3qNQULltCxDjGBOQgFGOUNatFFCQpABQ3X8Q0K6cjRCyBgaQ/4dVEOYVztCLNIrQyPrA0PJvkdC4ofXQqCKDEM0TylDiegWQ54hKkMqzi9DylKBQg/1EUOUzGRD86spQ+wom0LpKSxDmR1yQ6QbE0IkpE1CWsrdQlJUJUPBnmJD/FLXQlezXkNirjVC2io7Q1usZEMN5iJDr6RZQjDX+kKKHS1DfP0SQ73NP0O+aUFDcZ8LQxH5WUMWRgJDHpPaQiQiOkLxhVRC7yVvQrrpk0KjpApDCsFpQwJRPkP4bTFDOdQrQ6y9C0PcxjJCEo59QmPZAUNL6C5DG34tQ2BZ/kK5mRFDoPAqQwV2+EKlhVhC9WUSQ1stEEP271BDV6ucQlM1TUIpWwZDZUwiQ3xsJ0JQQyRDCjwWQ1WWckLJK1JCaigbQ1rxIkMjRDNDicaZQsIHh0LcHGJDAAyCQvlTdkNAFlNCQFJHQlnAWUItry5CsdcSQz+zUULKOPtC7IHkQqrFJUMHdyVDLK0JQ8HjOUPWRhNDGCKSQiX4O0MkEzdDrthGQp4kDkMYOGBCjg05QlJxSEOIQzxCzYKGQsNzrkKHWydDnRGDQohcb0PSYQhD1a9TQy7FnEKkhSJDHVxVQ350fUIm1EhC1QdWQ0udN0PyNhJDrWYTQ/CUIkPyKYxCmlEdQ7rVI0OqEiVDtBJiQyI170K/yTNCtvALQ5YWKkM0fwNDlwQkQ1tNUEJ9qRZD7TQuQyjiWELAFSdDpnzuQvCoFkOCRZxCQdbgQsgw80JT6CNCW4MvQw+vbEKr435CTBZmQ3D7bkNHE+BCZMZeQ+S2WUNG31NDIWw1QunfIkMEkxNDr14nQpD3EEMtTi1C87pdQ4z9PkMG6xFCm6g7Q1gbGkM4CzhDERQ0QheuBUN47yxDV5FsQ2MhKUOU/BdCl+oRQzG1LEPwYztC6xI2Qvp2GEPyk2dDJxpaQ3flYkMtVB1DEdk8QxwVPELPHDRDwVtCQh6PVULk/mxDCKZBQixUOkODWvdC7cQeQwSzbUJhYSBDhzlgQ8W0+0KajVhCqGoLQzaDoUKuHEZCLDQiQ13nNkOH6QZDMq5RQ97/PUOuDjBDKzMRQ+FBOEJA6WhCTaeyQlHC+0KRfiVDhV8aQ7qcBkMRKBtDJZ9AQ058/EIfkA5Dz9wAQxsTLENg/DpDBvgpQ4VrOkMq4+1Cjkc+Q0Qsu0L7s5xCqTtAQx3OTEKKJfdCyfM3QtJ3HUNZqIdCtN0tQypnQUORPwFD6ECQQu7kN0KHJ3BDhYFGQqDAMUIy8V1CLo5EQlik4EJ8eDdDUykrQ3D+DkPRNBhDoXmDQkncLUP051tD4AAaQ2dHd0IiB4lCiWMWQxUQNEN9KeRCAtXVQvlJnkKfc0hCDyQUQ9a/fUOXMXFDu7CcQuHFAEOvwfRCud04QujxEEKA1gNDRHk9QgPxGUOtB5pCazMEQ9rrT0NJqSJDspGvQkptcEPVVhpDvvBAQ9fANUPkzUVCNngtQ8TpDkOBieJC/Z0WQwo9UEKcoRZDTWrWQjhIFEPdxgBDghgrQzyRFkP5kRxDbsUgQsZHDkMzXFJDAadoQ5ZIQkKQNXZD1sGCQokymkLo6v1Ct7hNQ8WsCkNKywpDIYoqQw==",
          "dtype": "f4"
         }
        }
       ],
       "layout": {
        "hovermode": "x unified",
        "template": {
         "data": {
          "bar": [
           {
            "error_x": {
             "color": "#f2f5fa"
            },
            "error_y": {
             "color": "#f2f5fa"
            },
            "marker": {
             "line": {
              "color": "rgb(17,17,17)",
              "width": 0.5
             },
             "pattern": {
              "fillmode": "overlay",
              "size": 10,
              "solidity": 0.2
             }
            },
            "type": "bar"
           }
          ],
          "barpolar": [
           {
            "marker": {
             "line": {
              "color": "rgb(17,17,17)",
              "width": 0.5
             },
             "pattern": {
              "fillmode": "overlay",
              "size": 10,
              "solidity": 0.2
             }
            },
            "type": "barpolar"
           }
          ],
          "carpet": [
           {
            "aaxis": {
             "endlinecolor": "#A2B1C6",
             "gridcolor": "#506784",
             "linecolor": "#506784",
             "minorgridcolor": "#506784",
             "startlinecolor": "#A2B1C6"
            },
            "baxis": {
             "endlinecolor": "#A2B1C6",
             "gridcolor": "#506784",
             "linecolor": "#506784",
             "minorgridcolor": "#506784",
             "startlinecolor": "#A2B1C6"
            },
            "type": "carpet"
           }
          ],
          "choropleth": [
           {
            "colorbar": {
             "outlinewidth": 0,
             "ticks": ""
            },
            "type": "choropleth"
           }
          ],
          "contour": [
           {
            "colorbar": {
             "outlinewidth": 0,
             "ticks": ""
            },
            "colorscale": [
             [
              0,
              "#0d0887"
             ],
             [
              0.1111111111111111,
              "#46039f"
             ],
             [
              0.2222222222222222,
              "#7201a8"
             ],
             [
              0.3333333333333333,
              "#9c179e"
             ],
             [
              0.4444444444444444,
              "#bd3786"
             ],
             [
              0.5555555555555556,
              "#d8576b"
             ],
             [
              0.6666666666666666,
              "#ed7953"
             ],
             [
              0.7777777777777778,
              "#fb9f3a"
             ],
             [
              0.8888888888888888,
              "#fdca26"
             ],
             [
              1,
              "#f0f921"
             ]
            ],
            "type": "contour"
           }
          ],
          "contourcarpet": [
           {
            "colorbar": {
             "outlinewidth": 0,
             "ticks": ""
            },
            "type": "contourcarpet"
           }
          ],
          "heatmap": [
           {
            "colorbar": {
             "outlinewidth": 0,
             "ticks": ""
            },
            "colorscale": [
             [
              0,
              "#0d0887"
             ],
             [
              0.1111111111111111,
              "#46039f"
             ],
             [
              0.2222222222222222,
              "#7201a8"
             ],
             [
              0.3333333333333333,
              "#9c179e"
             ],
             [
              0.4444444444444444,
              "#bd3786"
             ],
             [
              0.5555555555555556,
              "#d8576b"
             ],
             [
              0.6666666666666666,
              "#ed7953"
             ],
             [
              0.7777777777777778,
              "#fb9f3a"
             ],
             [
              0.8888888888888888,
              "#fdca26"
             ],
             [
              1,
              "#f0f921"
             ]
            ],
            "type": "heatmap"
           }
          ],
          "histogram": [
           {
            "marker": {
             "pattern": {
              "fillmode": "overlay",
              "size": 10,
              "solidity": 0.2
             }
            },
            "type": "histogram"
           }
          ],
          "histogram2d": [
           {
            "colorbar": {
             "outlinewidth": 0,
             "ticks": ""
            },
            "colorscale": [
             [
              0,
              "#0d0887"
             ],
             [
              0.1111111111111111,
              "#46039f"
             ],
             [
              0.2222222222222222,
              "#7201a8"
             ],
             [
              0.3333333333333333,
              "#9c179e"
             ],
             [
              0.4444444444444444,
              "#bd3786"
             ],
             [
              0.5555555555555556,
              "#d8576b"
             ],
             [
              0.6666666666666666,
              "#ed7953"
             ],
             [
              0.7777777777777778,
              "#fb9f3a"
             ],
             [
              0.8888888888888888,
              "#fdca26"
             ],
             [
              1,
              "#f0f921"
             ]
            ],
            "type": "histogram2d"
           }
          ],
          "histogram2dcontour": [
           {
            "colorbar": {
             "outlinewidth": 0,
             "ticks": ""
            },
            "colorscale": [
             [
              0,
              "#0d0887"
             ],
             [
              0.1111111111111111,
              "#46039f"
             ],
             [
              0.2222222222222222,
              "#7201a8"
             ],
             [
              0.3333333333333333,
              "#9c179e"
             ],
             [
              0.4444444444444444,
              "#bd3786"
             ],
             [
              0.5555555555555556,
              "#d8576b"
             ],
             [
              0.6666666666666666,
              "#ed7953"
             ],
             [
              0.7777777777777778,
              "#fb9f3a"
             ],
             [
              0.8888888888888888,
              "#fdca26"
             ],
             [
              1,
              "#f0f921"
             ]
            ],
            "type": "histogram2dcontour"
           }
          ],
          "mesh3d": [
           {
            "colorbar": {
             "outlinewidth": 0,
             "ticks": ""
            },
            "type": "mesh3d"
           }
          ],
          "parcoords": [
           {
            "line": {
             "colorbar": {
              "outlinewidth": 0,
              "ticks": ""
             }
            },
            "type": "parcoords"
           }
          ],
          "pie": [
           {
            "automargin": true,
            "type": "pie"
           }
          ],
          "scatter": [
           {
            "marker": {
             "line": {
              "color": "#283442"
             }
            },
            "type": "scatter"
           }
          ],
          "scatter3d": [
           {
            "line": {
             "colorbar": {
              "outlinewidth": 0,
              "ticks": ""
             }
            },
            "marker": {
             "colorbar": {
              "outlinewidth": 0,
              "ticks": ""
             }
            },
            "type": "scatter3d"
           }
          ],
          "scattercarpet": [
           {
            "marker": {
             "colorbar": {
              "outlinewidth": 0,
              "ticks": ""
             }
            },
            "type": "scattercarpet"
           }
          ],
          "scattergeo": [
           {
            "marker": {
             "colorbar": {
              "outlinewidth": 0,
              "ticks": ""
             }
            },
            "type": "scattergeo"
           }
          ],
          "scattergl": [
           {
            "marker": {
             "line": {
              "color": "#283442"
             }
            },
            "type": "scattergl"
           }
          ],
          "scattermap": [
           {
            "marker": {
             "colorbar": {
              "outlinewidth": 0,
              "ticks": ""
             }
            },
            "type": "scattermap"
           }
          ],
          "scattermapbox": [
           {
            "marker": {
             "colorbar": {
              "outlinewidth": 0,
              "ticks": ""
             }
            },
            "type": "scattermapbox"
           }
          ],
          "scatterpolar": [
           {
            "marker": {
             "colorbar": {
              "outlinewidth": 0,
              "ticks": ""
             }
            },
            "type": "scatterpolar"
           }
          ],
          "scatterpolargl": [
           {
            "marker": {
             "colorbar": {
              "outlinewidth": 0,
              "ticks": ""
             }
            },
            "type": "scatterpolargl"
           }
          ],
          "scatterternary": [
           {
            "marker": {
             "colorbar": {
              "outlinewidth": 0,
              "ticks": ""
             }
            },
            "type": "scatterternary"
           }
          ],
          "surface": [
           {
            "colorbar": {
             "outlinewidth": 0,
             "ticks": ""
            },
            "colorscale": [
             [
              0,
              "#0d0887"
             ],
             [
              0.1111111111111111,
              "#46039f"
             ],
             [
              0.2222222222222222,
              "#7201a8"
             ],
             [
              0.3333333333333333,
              "#9c179e"
             ],
             [
              0.4444444444444444,
              "#bd3786"
             ],
             [
              0.5555555555555556,
              "#d8576b"
             ],
             [
              0.6666666666666666,
              "#ed7953"
             ],
             [
              0.7777777777777778,
              "#fb9f3a"
             ],
             [
              0.8888888888888888,
              "#fdca26"
             ],
             [
              1,
              "#f0f921"
             ]
            ],
            "type": "surface"
           }
          ],
          "table": [
           {
            "cells": {
             "fill": {
              "color": "#506784"
             },
             "line": {
              "color": "rgb(17,17,17)"
             }
            },
            "header": {
             "fill": {
              "color": "#2a3f5f"
             },
             "line": {
              "color": "rgb(17,17,17)"
             }
            },
            "type": "table"
           }
          ]
         },
         "layout": {
          "annotationdefaults": {
           "arrowcolor": "#f2f5fa",
           "arrowhead": 0,
           "arrowwidth": 1
          },
          "autotypenumbers": "strict",
          "coloraxis": {
           "colorbar": {
            "outlinewidth": 0,
            "ticks": ""
           }
          },
          "colorscale": {
           "diverging": [
            [
             0,
             "#8e0152"
            ],
            [
             0.1,
             "#c51b7d"
            ],
            [
             0.2,
             "#de77ae"
            ],
            [
             0.3,
             "#f1b6da"
            ],
            [
             0.4,
             "#fde0ef"
            ],
            [
             0.5,
             "#f7f7f7"
            ],
            [
             0.6,
             "#e6f5d0"
            ],
            [
             0.7,
             "#b8e186"
            ],
            [
             0.8,
             "#7fbc41"
            ],
            [
             0.9,
             "#4d9221"
            ],
            [
             1,
             "#276419"
            ]
           ],
           "sequential": [
            [
             0,
             "#0d0887"
            ],
            [
             0.1111111111111111,
             "#46039f"
            ],
            [
             0.2222222222222222,
             "#7201a8"
            ],
            [
             0.3333333333333333,
             "#9c179e"
            ],
            [
             0.4444444444444444,
             "#bd3786"
            ],
            [
             0.5555555555555556,
             "#d8576b"
            ],
            [
             0.6666666666666666,
             "#ed7953"
            ],
            [
             0.7777777777777778,
             "#fb9f3a"
            ],
            [
             0.8888888888888888,
             "#fdca26"
            ],
            [
             1,
             "#f0f921"
            ]
           ],
           "sequentialminus": [
            [
             0,
             "#0d0887"
            ],
            [
             0.1111111111111111,
             "#46039f"
            ],
            [
             0.2222222222222222,
             "#7201a8"
            ],
            [
             0.3333333333333333,
             "#9c179e"
            ],
            [
             0.4444444444444444,
             "#bd3786"
            ],
            [
             0.5555555555555556,
             "#d8576b"
            ],
            [
             0.6666666666666666,
             "#ed7953"
            ],
            [
             0.7777777777777778,
             "#fb9f3a"
            ],
            [
             0.8888888888888888,
             "#fdca26"
            ],
            [
             1,
             "#f0f921"
            ]
           ]
          },
          "colorway": [
           "#636efa",
           "#EF553B",
           "#00cc96",
           "#ab63fa",
           "#FFA15A",
           "#19d3f3",
           "#FF6692",
           "#B6E880",
           "#FF97FF",
           "#FECB52"
          ],
          "font": {
           "color": "#f2f5fa"
          },
          "geo": {
           "bgcolor": "rgb(17,17,17)",
           "lakecolor": "rgb(17,17,17)",
           "landcolor": "rgb(17,17,17)",
           "showlakes": true,
           "showland": true,
           "subunitcolor": "#506784"
          },
          "hoverlabel": {
           "align": "left"
          },
          "hovermode": "closest",
          "mapbox": {
           "style": "dark"
          },
          "paper_bgcolor": "rgb(17,17,17)",
          "plot_bgcolor": "rgb(17,17,17)",
          "polar": {
           "angularaxis": {
            "gridcolor": "#506784",
            "linecolor": "#506784",
            "ticks": ""
           },
           "bgcolor": "rgb(17,17,17)",
           "radialaxis": {
            "gridcolor": "#506784",
            "linecolor": "#506784",
            "ticks": ""
           }
          },
          "scene": {
           "xaxis": {
            "backgroundcolor": "rgb(17,17,17)",
            "gridcolor": "#506784",
            "gridwidth": 2,
            "linecolor": "#506784",
            "showbackground": true,
            "ticks": "",
            "zerolinecolor": "#C8D4E3"
           },
           "yaxis": {
            "backgroundcolor": "rgb(17,17,17)",
            "gridcolor": "#506784",
            "gridwidth": 2,
            "linecolor": "#506784",
            "showbackground": true,
            "ticks": "",
            "zerolinecolor": "#C8D4E3"
           },
           "zaxis": {
            "backgroundcolor": "rgb(17,17,17)",
            "gridcolor": "#506784",
            "gridwidth": 2,
            "linecolor": "#506784",
            "showbackground": true,
            "ticks": "",
            "zerolinecolor": "#C8D4E3"
           }
          },
          "shapedefaults": {
           "line": {
            "color": "#f2f5fa"
           }
          },
          "sliderdefaults": {
           "bgcolor": "#C8D4E3",
           "bordercolor": "rgb(17,17,17)",
           "borderwidth": 1,
           "tickwidth": 0
          },
          "ternary": {
           "aaxis": {
            "gridcolor": "#506784",
            "linecolor": "#506784",
            "ticks": ""
           },
           "baxis": {
            "gridcolor": "#506784",
            "linecolor": "#506784",
            "ticks": ""
           },
           "bgcolor": "rgb(17,17,17)",
           "caxis": {
            "gridcolor": "#506784",
            "linecolor": "#506784",
            "ticks": ""
           }
          },
          "title": {
           "x": 0.05
          },
          "updatemenudefaults": {
           "bgcolor": "#506784",
           "borderwidth": 0
          },
          "xaxis": {
           "automargin": true,
           "gridcolor": "#283442",
           "linecolor": "#506784",
           "ticks": "",
           "title": {
            "standoff": 15
           },
           "zerolinecolor": "#283442",
           "zerolinewidth": 2
          },
          "yaxis": {
           "automargin": true,
           "gridcolor": "#283442",
           "linecolor": "#506784",
           "ticks": "",
           "title": {
            "standoff": 15
           },
           "zerolinecolor": "#283442",
           "zerolinewidth": 2
          }
         }
        },
        "title": {
         "text": "AAPL Close Price Forecasting"
        },
        "xaxis": {
         "title": {
          "text": "Time"
         }
        },
        "yaxis": {
         "title": {
          "text": "Close Price (USD)"
         }
        }
       }
      }
     },
     "metadata": {},
     "output_type": "display_data"
    }
   ],
   "source": [
    "plotPredictions(y_testNp, predictions)"
   ]
  },
  {
   "cell_type": "code",
   "execution_count": 70,
   "id": "46c09c9c",
   "metadata": {},
   "outputs": [],
   "source": [
    "def plotErrorOverTime(actual, predicted, title='AAPL Prediction Error Over Time'):\n",
    "    indices = np.arange(len(actual))\n",
    "    errors = np.abs(actual.flatten() - predicted.flatten())\n",
    "    fig = go.Figure()\n",
    "    fig.add_trace(go.Scatter(x=indices, y=errors, name='Absolute Error', line=dict(color='red')))\n",
    "    fig.update_layout(\n",
    "        title=title,\n",
    "        xaxis_title='Date',\n",
    "        yaxis_title='Absolute Error (USD)',\n",
    "        template='plotly_dark',\n",
    "        hovermode='x unified',\n",
    "        xaxis=dict(tickformat='%Y-%m-%d', tickangle=45)\n",
    "    )\n",
    "    fig.show()"
   ]
  },
  {
   "cell_type": "code",
   "execution_count": 92,
   "id": "5c5f9c4c",
   "metadata": {},
   "outputs": [
    {
     "data": {
      "application/vnd.plotly.v1+json": {
       "config": {
        "plotlyServerURL": "https://plot.ly"
       },
       "data": [
        {
         "line": {
          "color": "red"
         },
         "name": "Absolute Error",
         "type": "scatter",
         "x": {
          "bdata": "AAABAAIAAwAEAAUABgAHAAgACQAKAAsADAANAA4ADwAQABEAEgATABQAFQAWABcAGAAZABoAGwAcAB0AHgAfACAAIQAiACMAJAAlACYAJwAoACkAKgArACwALQAuAC8AMAAxADIAMwA0ADUANgA3ADgAOQA6ADsAPAA9AD4APwBAAEEAQgBDAEQARQBGAEcASABJAEoASwBMAE0ATgBPAFAAUQBSAFMAVABVAFYAVwBYAFkAWgBbAFwAXQBeAF8AYABhAGIAYwBkAGUAZgBnAGgAaQBqAGsAbABtAG4AbwBwAHEAcgBzAHQAdQB2AHcAeAB5AHoAewB8AH0AfgB/AIAAgQCCAIMAhACFAIYAhwCIAIkAigCLAIwAjQCOAI8AkACRAJIAkwCUAJUAlgCXAJgAmQCaAJsAnACdAJ4AnwCgAKEAogCjAKQApQCmAKcAqACpAKoAqwCsAK0ArgCvALAAsQCyALMAtAC1ALYAtwC4ALkAugC7ALwAvQC+AL8AwADBAMIAwwDEAMUAxgDHAMgAyQDKAMsAzADNAM4AzwDQANEA0gDTANQA1QDWANcA2ADZANoA2wDcAN0A3gDfAOAA4QDiAOMA5ADlAOYA5wDoAOkA6gDrAOwA7QDuAO8A8ADxAPIA8wD0APUA9gD3APgA+QD6APsA/AD9AP4A/wAAAQEBAgEDAQQBBQEGAQcBCAEJAQoBCwEMAQ0BDgEPARABEQESARMBFAEVARYBFwEYARkBGgEbARwBHQEeAR8BIAEhASIBIwEkASUBJgEnASgBKQEqASsBLAEtAS4BLwEwATEBMgEzATQBNQE2ATcBOAE5AToBOwE8AT0BPgE/AUABQQFCAUMBRAFFAUYBRwFIAUkBSgFLAUwBTQFOAU8BUAFRAVIBUwFUAVUBVgFXAVgBWQFaAVsBXAFdAV4BXwFgAWEBYgFjAWQBZQE=",
          "dtype": "i2"
         },
         "y": {
          "bdata": "gPv8PyAOhUCQRC5AANSEPcC7VEAA/sw+gBTdPwDgeT5AohRAAGzMPoCvfT/A1DU/AJ0NPzB5LEAA5tw/gN+TPwBQ1z0Ae5E/AOh+PUC2EkDwHYVAQMo8QABepj7wGyBBAIjxPcDwdz+Ahsw/AK/oPwBztj6wSS9A4JCIQIDHkj/gVL1AAMrWPgDuZT4AHWs/AJvpP1B0U0AA7WY/QBdFP4DnNUAA4aI/kM4DQIApLT8Avu4/ACjGPQAGKz4ARKo/ABD8PYAaSz8AjTc/gHzBPgASrD9AC0I/AIilPYATnz7AQkI/QJ8oQAAVUD+gXtQ/QPI8QAB+tD4AUzA+wJyFQAD+tD8AcXZAQJgbQIBVuD9A9h9AAE+UP8CVM0DAbw5AAIC7PoB1FD+AAZ8/QNyhQAAjBj5gwaI/wAjxP6Byj0BAOMJAwO0YQLCgGEFApoQ/gAiSP8C5aEAAagtBoFLQP6CyIkDAjH1AAPAsPYAyoD8AmCc/gMIfQAAYXT+ACvQ/wI8tQCBksT+AUMY+YM2IP4CJtD8gJQpBYBegQAD2tj8AHHg+AIhAQKAPiEBAo0w/8LwGQIAisD+AxYg/AIM9PwD8lz4AZZA/wBQeQKAVK0AA8Ds+ALtRP4CugkCAfv8/QO2IP6CJBUAAwBk/gFGVP4B8kT+AX40/ALL8P0ArqT9wUQpAgGosQADdsz8ASC8/QArOP5hS60AAHmE/ACAWQADixj4AiEE9AJRHPmBD2j8AFN09AM7kPyC4vD8AnGk/AJvwP8AqVUAAycU/ABklPwDP6T+AC7I/gG5rP0DiDECAfeE/QMAvPwCsFz6ACWM/QGqzP6COJUFgEJA/ANitPkCbtj/AqBBAAI0eP0AURECAfCZAAIhyPmDkIEAAza9AAPLtP4Au7j5AZ0A/gEDPPwC0IT6AqvI/gHL/PwBse0AAQHA8AJM5P4Cxoz+Ar8I/oIvDQACjTj9AKz4/gEPeP4C4vEAAUok/AJZTPwDW5D6AQLQ/AMKAPuAl2D8ASJhAQMLYP4C+OkBAG5U/AEzzPSCIP0DAZvY/ABsNPwCcKT+Asd8+wHP/QCCFqUAADSQ/QMJOQADyzz+AS6s/ADizPABwuT2AK8g/QHdrP+BwAUHAyqo/4CuIQAB/Jz8Ao08+ABumPwB3ZEAARBw/wCZnPwCPtUAAROM+gESTP4CH2D/gRpM/ACLcPoBvsz+gRJI/gBWpPgA2+j4AlYA/QOXlQIAcnD8AFxhAAOP+P4B0xT4ALOU+gLeFPqDzHkAAgNM74ED7PwCuxz8AzjFAgIIfQMCOTT8A2LU/AKEnPyCmKEAAgA87AIDWOwB/jz7Q8SNAAHiQPQAgED4ghYdAIGS/QADVZD9ALGNAAJJvPwD50T6AqcM+ABQqPxA2mUAAhHo+YNqWQMC9FkCAMXNAANiRP4DUvz8AuAw+wC6OPwDNRkBASntAgFQtQIAktT8Af7M+ABNgPwDusD4AzYU/gCaNP6BKlT/Aq/k/AMraPoBCvT8AMO88AM9uQIDvmj8g+oJAQB6QP6Bvhj/A9XdAQGPPP0B3Jj+gB7I/wJFPP4CxtD+A7a0/wIGGQECVO0AA8dU/AJ2JPoCY0D+Abfc/ABm+QMBVAkCAA08/AGHuP4AApT9woYBAQLfDPwDyCT6A+d4/AECLPcC2lEAA7Ic/AJptPsA8nkCAMBZAwI4RP4DnzD5ACVpAwGEAPwDiwT4AIjU/ALw8PoDE+D8AHD0/gE8zP8Dqg0CAdqI/AMRyP0BrGkDAauQ/gNiMP8ChcUBAgfQ/ANVTPwArNz4gL4BAoBM5QICiij8AxzE/AFlbPwCFb0AgrpJAYAnvPwC0Xj+AQso/oD6yQIBjGj/AQIdAgMtCP8CRvz+AvjtAQGtoQABujz4AfyY/AACpOw==",
          "dtype": "f4"
         }
        }
       ],
       "layout": {
        "hovermode": "x unified",
        "template": {
         "data": {
          "bar": [
           {
            "error_x": {
             "color": "#f2f5fa"
            },
            "error_y": {
             "color": "#f2f5fa"
            },
            "marker": {
             "line": {
              "color": "rgb(17,17,17)",
              "width": 0.5
             },
             "pattern": {
              "fillmode": "overlay",
              "size": 10,
              "solidity": 0.2
             }
            },
            "type": "bar"
           }
          ],
          "barpolar": [
           {
            "marker": {
             "line": {
              "color": "rgb(17,17,17)",
              "width": 0.5
             },
             "pattern": {
              "fillmode": "overlay",
              "size": 10,
              "solidity": 0.2
             }
            },
            "type": "barpolar"
           }
          ],
          "carpet": [
           {
            "aaxis": {
             "endlinecolor": "#A2B1C6",
             "gridcolor": "#506784",
             "linecolor": "#506784",
             "minorgridcolor": "#506784",
             "startlinecolor": "#A2B1C6"
            },
            "baxis": {
             "endlinecolor": "#A2B1C6",
             "gridcolor": "#506784",
             "linecolor": "#506784",
             "minorgridcolor": "#506784",
             "startlinecolor": "#A2B1C6"
            },
            "type": "carpet"
           }
          ],
          "choropleth": [
           {
            "colorbar": {
             "outlinewidth": 0,
             "ticks": ""
            },
            "type": "choropleth"
           }
          ],
          "contour": [
           {
            "colorbar": {
             "outlinewidth": 0,
             "ticks": ""
            },
            "colorscale": [
             [
              0,
              "#0d0887"
             ],
             [
              0.1111111111111111,
              "#46039f"
             ],
             [
              0.2222222222222222,
              "#7201a8"
             ],
             [
              0.3333333333333333,
              "#9c179e"
             ],
             [
              0.4444444444444444,
              "#bd3786"
             ],
             [
              0.5555555555555556,
              "#d8576b"
             ],
             [
              0.6666666666666666,
              "#ed7953"
             ],
             [
              0.7777777777777778,
              "#fb9f3a"
             ],
             [
              0.8888888888888888,
              "#fdca26"
             ],
             [
              1,
              "#f0f921"
             ]
            ],
            "type": "contour"
           }
          ],
          "contourcarpet": [
           {
            "colorbar": {
             "outlinewidth": 0,
             "ticks": ""
            },
            "type": "contourcarpet"
           }
          ],
          "heatmap": [
           {
            "colorbar": {
             "outlinewidth": 0,
             "ticks": ""
            },
            "colorscale": [
             [
              0,
              "#0d0887"
             ],
             [
              0.1111111111111111,
              "#46039f"
             ],
             [
              0.2222222222222222,
              "#7201a8"
             ],
             [
              0.3333333333333333,
              "#9c179e"
             ],
             [
              0.4444444444444444,
              "#bd3786"
             ],
             [
              0.5555555555555556,
              "#d8576b"
             ],
             [
              0.6666666666666666,
              "#ed7953"
             ],
             [
              0.7777777777777778,
              "#fb9f3a"
             ],
             [
              0.8888888888888888,
              "#fdca26"
             ],
             [
              1,
              "#f0f921"
             ]
            ],
            "type": "heatmap"
           }
          ],
          "histogram": [
           {
            "marker": {
             "pattern": {
              "fillmode": "overlay",
              "size": 10,
              "solidity": 0.2
             }
            },
            "type": "histogram"
           }
          ],
          "histogram2d": [
           {
            "colorbar": {
             "outlinewidth": 0,
             "ticks": ""
            },
            "colorscale": [
             [
              0,
              "#0d0887"
             ],
             [
              0.1111111111111111,
              "#46039f"
             ],
             [
              0.2222222222222222,
              "#7201a8"
             ],
             [
              0.3333333333333333,
              "#9c179e"
             ],
             [
              0.4444444444444444,
              "#bd3786"
             ],
             [
              0.5555555555555556,
              "#d8576b"
             ],
             [
              0.6666666666666666,
              "#ed7953"
             ],
             [
              0.7777777777777778,
              "#fb9f3a"
             ],
             [
              0.8888888888888888,
              "#fdca26"
             ],
             [
              1,
              "#f0f921"
             ]
            ],
            "type": "histogram2d"
           }
          ],
          "histogram2dcontour": [
           {
            "colorbar": {
             "outlinewidth": 0,
             "ticks": ""
            },
            "colorscale": [
             [
              0,
              "#0d0887"
             ],
             [
              0.1111111111111111,
              "#46039f"
             ],
             [
              0.2222222222222222,
              "#7201a8"
             ],
             [
              0.3333333333333333,
              "#9c179e"
             ],
             [
              0.4444444444444444,
              "#bd3786"
             ],
             [
              0.5555555555555556,
              "#d8576b"
             ],
             [
              0.6666666666666666,
              "#ed7953"
             ],
             [
              0.7777777777777778,
              "#fb9f3a"
             ],
             [
              0.8888888888888888,
              "#fdca26"
             ],
             [
              1,
              "#f0f921"
             ]
            ],
            "type": "histogram2dcontour"
           }
          ],
          "mesh3d": [
           {
            "colorbar": {
             "outlinewidth": 0,
             "ticks": ""
            },
            "type": "mesh3d"
           }
          ],
          "parcoords": [
           {
            "line": {
             "colorbar": {
              "outlinewidth": 0,
              "ticks": ""
             }
            },
            "type": "parcoords"
           }
          ],
          "pie": [
           {
            "automargin": true,
            "type": "pie"
           }
          ],
          "scatter": [
           {
            "marker": {
             "line": {
              "color": "#283442"
             }
            },
            "type": "scatter"
           }
          ],
          "scatter3d": [
           {
            "line": {
             "colorbar": {
              "outlinewidth": 0,
              "ticks": ""
             }
            },
            "marker": {
             "colorbar": {
              "outlinewidth": 0,
              "ticks": ""
             }
            },
            "type": "scatter3d"
           }
          ],
          "scattercarpet": [
           {
            "marker": {
             "colorbar": {
              "outlinewidth": 0,
              "ticks": ""
             }
            },
            "type": "scattercarpet"
           }
          ],
          "scattergeo": [
           {
            "marker": {
             "colorbar": {
              "outlinewidth": 0,
              "ticks": ""
             }
            },
            "type": "scattergeo"
           }
          ],
          "scattergl": [
           {
            "marker": {
             "line": {
              "color": "#283442"
             }
            },
            "type": "scattergl"
           }
          ],
          "scattermap": [
           {
            "marker": {
             "colorbar": {
              "outlinewidth": 0,
              "ticks": ""
             }
            },
            "type": "scattermap"
           }
          ],
          "scattermapbox": [
           {
            "marker": {
             "colorbar": {
              "outlinewidth": 0,
              "ticks": ""
             }
            },
            "type": "scattermapbox"
           }
          ],
          "scatterpolar": [
           {
            "marker": {
             "colorbar": {
              "outlinewidth": 0,
              "ticks": ""
             }
            },
            "type": "scatterpolar"
           }
          ],
          "scatterpolargl": [
           {
            "marker": {
             "colorbar": {
              "outlinewidth": 0,
              "ticks": ""
             }
            },
            "type": "scatterpolargl"
           }
          ],
          "scatterternary": [
           {
            "marker": {
             "colorbar": {
              "outlinewidth": 0,
              "ticks": ""
             }
            },
            "type": "scatterternary"
           }
          ],
          "surface": [
           {
            "colorbar": {
             "outlinewidth": 0,
             "ticks": ""
            },
            "colorscale": [
             [
              0,
              "#0d0887"
             ],
             [
              0.1111111111111111,
              "#46039f"
             ],
             [
              0.2222222222222222,
              "#7201a8"
             ],
             [
              0.3333333333333333,
              "#9c179e"
             ],
             [
              0.4444444444444444,
              "#bd3786"
             ],
             [
              0.5555555555555556,
              "#d8576b"
             ],
             [
              0.6666666666666666,
              "#ed7953"
             ],
             [
              0.7777777777777778,
              "#fb9f3a"
             ],
             [
              0.8888888888888888,
              "#fdca26"
             ],
             [
              1,
              "#f0f921"
             ]
            ],
            "type": "surface"
           }
          ],
          "table": [
           {
            "cells": {
             "fill": {
              "color": "#506784"
             },
             "line": {
              "color": "rgb(17,17,17)"
             }
            },
            "header": {
             "fill": {
              "color": "#2a3f5f"
             },
             "line": {
              "color": "rgb(17,17,17)"
             }
            },
            "type": "table"
           }
          ]
         },
         "layout": {
          "annotationdefaults": {
           "arrowcolor": "#f2f5fa",
           "arrowhead": 0,
           "arrowwidth": 1
          },
          "autotypenumbers": "strict",
          "coloraxis": {
           "colorbar": {
            "outlinewidth": 0,
            "ticks": ""
           }
          },
          "colorscale": {
           "diverging": [
            [
             0,
             "#8e0152"
            ],
            [
             0.1,
             "#c51b7d"
            ],
            [
             0.2,
             "#de77ae"
            ],
            [
             0.3,
             "#f1b6da"
            ],
            [
             0.4,
             "#fde0ef"
            ],
            [
             0.5,
             "#f7f7f7"
            ],
            [
             0.6,
             "#e6f5d0"
            ],
            [
             0.7,
             "#b8e186"
            ],
            [
             0.8,
             "#7fbc41"
            ],
            [
             0.9,
             "#4d9221"
            ],
            [
             1,
             "#276419"
            ]
           ],
           "sequential": [
            [
             0,
             "#0d0887"
            ],
            [
             0.1111111111111111,
             "#46039f"
            ],
            [
             0.2222222222222222,
             "#7201a8"
            ],
            [
             0.3333333333333333,
             "#9c179e"
            ],
            [
             0.4444444444444444,
             "#bd3786"
            ],
            [
             0.5555555555555556,
             "#d8576b"
            ],
            [
             0.6666666666666666,
             "#ed7953"
            ],
            [
             0.7777777777777778,
             "#fb9f3a"
            ],
            [
             0.8888888888888888,
             "#fdca26"
            ],
            [
             1,
             "#f0f921"
            ]
           ],
           "sequentialminus": [
            [
             0,
             "#0d0887"
            ],
            [
             0.1111111111111111,
             "#46039f"
            ],
            [
             0.2222222222222222,
             "#7201a8"
            ],
            [
             0.3333333333333333,
             "#9c179e"
            ],
            [
             0.4444444444444444,
             "#bd3786"
            ],
            [
             0.5555555555555556,
             "#d8576b"
            ],
            [
             0.6666666666666666,
             "#ed7953"
            ],
            [
             0.7777777777777778,
             "#fb9f3a"
            ],
            [
             0.8888888888888888,
             "#fdca26"
            ],
            [
             1,
             "#f0f921"
            ]
           ]
          },
          "colorway": [
           "#636efa",
           "#EF553B",
           "#00cc96",
           "#ab63fa",
           "#FFA15A",
           "#19d3f3",
           "#FF6692",
           "#B6E880",
           "#FF97FF",
           "#FECB52"
          ],
          "font": {
           "color": "#f2f5fa"
          },
          "geo": {
           "bgcolor": "rgb(17,17,17)",
           "lakecolor": "rgb(17,17,17)",
           "landcolor": "rgb(17,17,17)",
           "showlakes": true,
           "showland": true,
           "subunitcolor": "#506784"
          },
          "hoverlabel": {
           "align": "left"
          },
          "hovermode": "closest",
          "mapbox": {
           "style": "dark"
          },
          "paper_bgcolor": "rgb(17,17,17)",
          "plot_bgcolor": "rgb(17,17,17)",
          "polar": {
           "angularaxis": {
            "gridcolor": "#506784",
            "linecolor": "#506784",
            "ticks": ""
           },
           "bgcolor": "rgb(17,17,17)",
           "radialaxis": {
            "gridcolor": "#506784",
            "linecolor": "#506784",
            "ticks": ""
           }
          },
          "scene": {
           "xaxis": {
            "backgroundcolor": "rgb(17,17,17)",
            "gridcolor": "#506784",
            "gridwidth": 2,
            "linecolor": "#506784",
            "showbackground": true,
            "ticks": "",
            "zerolinecolor": "#C8D4E3"
           },
           "yaxis": {
            "backgroundcolor": "rgb(17,17,17)",
            "gridcolor": "#506784",
            "gridwidth": 2,
            "linecolor": "#506784",
            "showbackground": true,
            "ticks": "",
            "zerolinecolor": "#C8D4E3"
           },
           "zaxis": {
            "backgroundcolor": "rgb(17,17,17)",
            "gridcolor": "#506784",
            "gridwidth": 2,
            "linecolor": "#506784",
            "showbackground": true,
            "ticks": "",
            "zerolinecolor": "#C8D4E3"
           }
          },
          "shapedefaults": {
           "line": {
            "color": "#f2f5fa"
           }
          },
          "sliderdefaults": {
           "bgcolor": "#C8D4E3",
           "bordercolor": "rgb(17,17,17)",
           "borderwidth": 1,
           "tickwidth": 0
          },
          "ternary": {
           "aaxis": {
            "gridcolor": "#506784",
            "linecolor": "#506784",
            "ticks": ""
           },
           "baxis": {
            "gridcolor": "#506784",
            "linecolor": "#506784",
            "ticks": ""
           },
           "bgcolor": "rgb(17,17,17)",
           "caxis": {
            "gridcolor": "#506784",
            "linecolor": "#506784",
            "ticks": ""
           }
          },
          "title": {
           "x": 0.05
          },
          "updatemenudefaults": {
           "bgcolor": "#506784",
           "borderwidth": 0
          },
          "xaxis": {
           "automargin": true,
           "gridcolor": "#283442",
           "linecolor": "#506784",
           "ticks": "",
           "title": {
            "standoff": 15
           },
           "zerolinecolor": "#283442",
           "zerolinewidth": 2
          },
          "yaxis": {
           "automargin": true,
           "gridcolor": "#283442",
           "linecolor": "#506784",
           "ticks": "",
           "title": {
            "standoff": 15
           },
           "zerolinecolor": "#283442",
           "zerolinewidth": 2
          }
         }
        },
        "title": {
         "text": "AAPL Prediction Error Over Time"
        },
        "xaxis": {
         "tickangle": 45,
         "tickformat": "%Y-%m-%d",
         "title": {
          "text": "Date"
         }
        },
        "yaxis": {
         "title": {
          "text": "Absolute Error (USD)"
         }
        }
       }
      }
     },
     "metadata": {},
     "output_type": "display_data"
    }
   ],
   "source": [
    "plotErrorOverTime(y_testNp, predictions)"
   ]
  },
  {
   "cell_type": "code",
   "execution_count": 72,
   "id": "8e99766c",
   "metadata": {},
   "outputs": [],
   "source": [
    "def plotErrorCDF(actual, predicted, title='AAPL Predicted Error CDF'):\n",
    "    errors = np.abs(actual.flatten() - predicted.flatten())\n",
    "    sortedErrors = np.sort(errors)\n",
    "    cdf = np.arange(1, len(sortedErrors) + 1) / len(sortedErrors)\n",
    "    fig = go.Figure()\n",
    "    fig.add_trace(go.Scatter(x=sortedErrors, y=cdf, name='CDF', line=dict(color='green')))\n",
    "    fig.update_layout(\n",
    "        title=title,\n",
    "        xaxis_title='Absolute Error (USD)',\n",
    "        yaxis_title='Cumulative Probability',\n",
    "        template='plotly_dark',\n",
    "        hovermode='x unified'\n",
    "    )\n",
    "    fig.show()"
   ]
  },
  {
   "cell_type": "code",
   "execution_count": 93,
   "id": "c4dad0a3",
   "metadata": {},
   "outputs": [
    {
     "data": {
      "application/vnd.plotly.v1+json": {
       "config": {
        "plotlyServerURL": "https://plot.ly"
       },
       "data": [
        {
         "line": {
          "color": "green"
         },
         "name": "CDF",
         "type": "scatter",
         "x": {
          "bdata": "AIAPOwAAqTsAgNM7AIDWOwBAcDwAOLM8ADDvPADwLD0AiEE9AOh+PQDUhD0AQIs9AHiQPQCIpT0AcLk9ACjGPQBQ1z0AFN09AIjxPQBM8z0AEPw9ACMGPgDyCT4AuAw+ACAQPgCsFz4AtCE+AAYrPgBTMD4AKzc+APA7PgC8PD4AlEc+AKNPPgDuZT4Amm0+AIhyPgAceD4A4Hk+AIR6PgDCgD6At4U+AJ2JPgBujz4Af48+APyXPoATnz4AXqY+gBWpPgDYrT4A7rA+AH+zPgB+tD4Ac7Y+AIC7PoB8wT4A4sE+gKnDPoB0xT6AUMY+AOLGPgBszD6A58w+AP7MPgD50T4AytY+AMraPgAi3D6Asd8+AETjPgDW5D4ALOU+gC7uPgA2+j7AYQA/ABsNPwCdDT/AjhE/gHUUPwDAGT+AYxo/AEQcPwCNHj8ADSQ/ABklP0B3Jj8AfyY/AH8nPwCYJz8AoSc/AJwpPwAUKj+AKS0/AEgvP0DALz8AxzE/gE8zPwAiNT/A1DU/AI03PwCTOT8AHD0/AIM9P0ArPj9AZ0A/QAtCP8BCQj+Ay0I/QBdFP4AaSz9Ao0w/wI5NPwCjTj+AA08/wJFPPwAVUD8Au1E/AJZTPwDVUz8AWVs/ABhdPwC0Xj8AE2A/AB5hP4AJYz8A1WQ/AO1mP8AmZz8AnGk/AB1rP4Buaz9Ad2s/AJJvPwDEcj/A8Hc/gK99PwCVgD9ApoQ/AM2FP6Bvhj8A7Ic/gMWIP2DNiD9A7Yg/AFKJP4Ciij+A2Iw/gCaNP4BfjT/ALo4/YBCQP0AekD8AZZA/AHuRP4B8kT8A2JE/gAiSP6BEkj+Ax5I/gESTP+BGkz+A35M/AE+UP0AblT+gSpU/gFGVP4Dvmj+AHJw/gAGfP4AyoD+AdqI/YMGiPwDhoj+AsaM/gAClPwAbpj9AK6k/AESqP8DKqj+AS6s/ABKsP4DtrT+AIrA/IGSxP6AHsj+AC7I/QGqzP4Bvsz8A3bM/gEC0P4CJtD+AsbQ/AP60P4AktT8A2LU/QJu2PwD2tj+AVbg/ILi8P4BCvT/Akb8/gNS/P4Cvwj9At8M/AMnFPwCuxz+AK8g/gELKP4CGzD9ACs4/gEDPP0Bjzz8A8s8/oFLQP4CY0D+gXtQ/APHVP+Al2D+Ah9g/QMLYP2BD2j8A5tw/gBTdP4BD3j+A+d4/gH3hP8Bq5D8AzuQ/AK/oPwCb6T8Az+k/APLtPwBh7j8Avu4/YAnvPwCb8D/ACPE/gKryP4AK9D9AgfQ/wGb2P4Bt9z+AxPg/wKv5P+BA+z8Asvw/gPv8PwDj/j+Acv8/gH7/P8BVAkCQzgNAoIkFQPC8BkBwUQpAQOIMQMBvDkDAqBBAQLYSQECiFEAAIBZAgDAWQMC9FkAAFxhAwO0YQEBrGkBAmBtAwBQeQKDzHkCAgh9AgMIfQED2H0Bg5CBAoLIiQNDxI0CAfCZAQJ8oQCCmKECgFStAgGosQDB5LECAVC1AwI8tQJBELkCwSS9AAM4xQMCVM0CA5zVAoBM5QIC+OkBAlTtAgL47QEDKPEBA8jxAIIg/QACIQEBAFERAAM1GQEDCTkBQdFNAwLtUQMAqVUBACVpAQCxjQAB3ZEBAa2hAwLloQADPbkAAhW9AwKFxQIAxc0AAcXZAwPV3QEBKe0AAbHtAwIx9QCAvgEBwoYBAgK6CQCD6gkDA6oNAIA6FQPAdhUDAnIVAwIGGQMBAh0AghYdAoA+IQOAriEDgkIhAoHKPQCCukkDAtpRAYNqWQABImEAQNplAwDyeQGAXoEBA3KFAIIWpQADNr0CgPrJAAI+1QIC4vEDgVL1AABm+QCBkv0BAOMJAoIvDQEDl5UCYUutAwHP/QOBwAUEgJQpBAGoLQbCgGEHwGyBBoI4lQQ==",
          "dtype": "f4"
         },
         "y": {
          "bdata": "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",
          "dtype": "f8"
         }
        }
       ],
       "layout": {
        "hovermode": "x unified",
        "template": {
         "data": {
          "bar": [
           {
            "error_x": {
             "color": "#f2f5fa"
            },
            "error_y": {
             "color": "#f2f5fa"
            },
            "marker": {
             "line": {
              "color": "rgb(17,17,17)",
              "width": 0.5
             },
             "pattern": {
              "fillmode": "overlay",
              "size": 10,
              "solidity": 0.2
             }
            },
            "type": "bar"
           }
          ],
          "barpolar": [
           {
            "marker": {
             "line": {
              "color": "rgb(17,17,17)",
              "width": 0.5
             },
             "pattern": {
              "fillmode": "overlay",
              "size": 10,
              "solidity": 0.2
             }
            },
            "type": "barpolar"
           }
          ],
          "carpet": [
           {
            "aaxis": {
             "endlinecolor": "#A2B1C6",
             "gridcolor": "#506784",
             "linecolor": "#506784",
             "minorgridcolor": "#506784",
             "startlinecolor": "#A2B1C6"
            },
            "baxis": {
             "endlinecolor": "#A2B1C6",
             "gridcolor": "#506784",
             "linecolor": "#506784",
             "minorgridcolor": "#506784",
             "startlinecolor": "#A2B1C6"
            },
            "type": "carpet"
           }
          ],
          "choropleth": [
           {
            "colorbar": {
             "outlinewidth": 0,
             "ticks": ""
            },
            "type": "choropleth"
           }
          ],
          "contour": [
           {
            "colorbar": {
             "outlinewidth": 0,
             "ticks": ""
            },
            "colorscale": [
             [
              0,
              "#0d0887"
             ],
             [
              0.1111111111111111,
              "#46039f"
             ],
             [
              0.2222222222222222,
              "#7201a8"
             ],
             [
              0.3333333333333333,
              "#9c179e"
             ],
             [
              0.4444444444444444,
              "#bd3786"
             ],
             [
              0.5555555555555556,
              "#d8576b"
             ],
             [
              0.6666666666666666,
              "#ed7953"
             ],
             [
              0.7777777777777778,
              "#fb9f3a"
             ],
             [
              0.8888888888888888,
              "#fdca26"
             ],
             [
              1,
              "#f0f921"
             ]
            ],
            "type": "contour"
           }
          ],
          "contourcarpet": [
           {
            "colorbar": {
             "outlinewidth": 0,
             "ticks": ""
            },
            "type": "contourcarpet"
           }
          ],
          "heatmap": [
           {
            "colorbar": {
             "outlinewidth": 0,
             "ticks": ""
            },
            "colorscale": [
             [
              0,
              "#0d0887"
             ],
             [
              0.1111111111111111,
              "#46039f"
             ],
             [
              0.2222222222222222,
              "#7201a8"
             ],
             [
              0.3333333333333333,
              "#9c179e"
             ],
             [
              0.4444444444444444,
              "#bd3786"
             ],
             [
              0.5555555555555556,
              "#d8576b"
             ],
             [
              0.6666666666666666,
              "#ed7953"
             ],
             [
              0.7777777777777778,
              "#fb9f3a"
             ],
             [
              0.8888888888888888,
              "#fdca26"
             ],
             [
              1,
              "#f0f921"
             ]
            ],
            "type": "heatmap"
           }
          ],
          "histogram": [
           {
            "marker": {
             "pattern": {
              "fillmode": "overlay",
              "size": 10,
              "solidity": 0.2
             }
            },
            "type": "histogram"
           }
          ],
          "histogram2d": [
           {
            "colorbar": {
             "outlinewidth": 0,
             "ticks": ""
            },
            "colorscale": [
             [
              0,
              "#0d0887"
             ],
             [
              0.1111111111111111,
              "#46039f"
             ],
             [
              0.2222222222222222,
              "#7201a8"
             ],
             [
              0.3333333333333333,
              "#9c179e"
             ],
             [
              0.4444444444444444,
              "#bd3786"
             ],
             [
              0.5555555555555556,
              "#d8576b"
             ],
             [
              0.6666666666666666,
              "#ed7953"
             ],
             [
              0.7777777777777778,
              "#fb9f3a"
             ],
             [
              0.8888888888888888,
              "#fdca26"
             ],
             [
              1,
              "#f0f921"
             ]
            ],
            "type": "histogram2d"
           }
          ],
          "histogram2dcontour": [
           {
            "colorbar": {
             "outlinewidth": 0,
             "ticks": ""
            },
            "colorscale": [
             [
              0,
              "#0d0887"
             ],
             [
              0.1111111111111111,
              "#46039f"
             ],
             [
              0.2222222222222222,
              "#7201a8"
             ],
             [
              0.3333333333333333,
              "#9c179e"
             ],
             [
              0.4444444444444444,
              "#bd3786"
             ],
             [
              0.5555555555555556,
              "#d8576b"
             ],
             [
              0.6666666666666666,
              "#ed7953"
             ],
             [
              0.7777777777777778,
              "#fb9f3a"
             ],
             [
              0.8888888888888888,
              "#fdca26"
             ],
             [
              1,
              "#f0f921"
             ]
            ],
            "type": "histogram2dcontour"
           }
          ],
          "mesh3d": [
           {
            "colorbar": {
             "outlinewidth": 0,
             "ticks": ""
            },
            "type": "mesh3d"
           }
          ],
          "parcoords": [
           {
            "line": {
             "colorbar": {
              "outlinewidth": 0,
              "ticks": ""
             }
            },
            "type": "parcoords"
           }
          ],
          "pie": [
           {
            "automargin": true,
            "type": "pie"
           }
          ],
          "scatter": [
           {
            "marker": {
             "line": {
              "color": "#283442"
             }
            },
            "type": "scatter"
           }
          ],
          "scatter3d": [
           {
            "line": {
             "colorbar": {
              "outlinewidth": 0,
              "ticks": ""
             }
            },
            "marker": {
             "colorbar": {
              "outlinewidth": 0,
              "ticks": ""
             }
            },
            "type": "scatter3d"
           }
          ],
          "scattercarpet": [
           {
            "marker": {
             "colorbar": {
              "outlinewidth": 0,
              "ticks": ""
             }
            },
            "type": "scattercarpet"
           }
          ],
          "scattergeo": [
           {
            "marker": {
             "colorbar": {
              "outlinewidth": 0,
              "ticks": ""
             }
            },
            "type": "scattergeo"
           }
          ],
          "scattergl": [
           {
            "marker": {
             "line": {
              "color": "#283442"
             }
            },
            "type": "scattergl"
           }
          ],
          "scattermap": [
           {
            "marker": {
             "colorbar": {
              "outlinewidth": 0,
              "ticks": ""
             }
            },
            "type": "scattermap"
           }
          ],
          "scattermapbox": [
           {
            "marker": {
             "colorbar": {
              "outlinewidth": 0,
              "ticks": ""
             }
            },
            "type": "scattermapbox"
           }
          ],
          "scatterpolar": [
           {
            "marker": {
             "colorbar": {
              "outlinewidth": 0,
              "ticks": ""
             }
            },
            "type": "scatterpolar"
           }
          ],
          "scatterpolargl": [
           {
            "marker": {
             "colorbar": {
              "outlinewidth": 0,
              "ticks": ""
             }
            },
            "type": "scatterpolargl"
           }
          ],
          "scatterternary": [
           {
            "marker": {
             "colorbar": {
              "outlinewidth": 0,
              "ticks": ""
             }
            },
            "type": "scatterternary"
           }
          ],
          "surface": [
           {
            "colorbar": {
             "outlinewidth": 0,
             "ticks": ""
            },
            "colorscale": [
             [
              0,
              "#0d0887"
             ],
             [
              0.1111111111111111,
              "#46039f"
             ],
             [
              0.2222222222222222,
              "#7201a8"
             ],
             [
              0.3333333333333333,
              "#9c179e"
             ],
             [
              0.4444444444444444,
              "#bd3786"
             ],
             [
              0.5555555555555556,
              "#d8576b"
             ],
             [
              0.6666666666666666,
              "#ed7953"
             ],
             [
              0.7777777777777778,
              "#fb9f3a"
             ],
             [
              0.8888888888888888,
              "#fdca26"
             ],
             [
              1,
              "#f0f921"
             ]
            ],
            "type": "surface"
           }
          ],
          "table": [
           {
            "cells": {
             "fill": {
              "color": "#506784"
             },
             "line": {
              "color": "rgb(17,17,17)"
             }
            },
            "header": {
             "fill": {
              "color": "#2a3f5f"
             },
             "line": {
              "color": "rgb(17,17,17)"
             }
            },
            "type": "table"
           }
          ]
         },
         "layout": {
          "annotationdefaults": {
           "arrowcolor": "#f2f5fa",
           "arrowhead": 0,
           "arrowwidth": 1
          },
          "autotypenumbers": "strict",
          "coloraxis": {
           "colorbar": {
            "outlinewidth": 0,
            "ticks": ""
           }
          },
          "colorscale": {
           "diverging": [
            [
             0,
             "#8e0152"
            ],
            [
             0.1,
             "#c51b7d"
            ],
            [
             0.2,
             "#de77ae"
            ],
            [
             0.3,
             "#f1b6da"
            ],
            [
             0.4,
             "#fde0ef"
            ],
            [
             0.5,
             "#f7f7f7"
            ],
            [
             0.6,
             "#e6f5d0"
            ],
            [
             0.7,
             "#b8e186"
            ],
            [
             0.8,
             "#7fbc41"
            ],
            [
             0.9,
             "#4d9221"
            ],
            [
             1,
             "#276419"
            ]
           ],
           "sequential": [
            [
             0,
             "#0d0887"
            ],
            [
             0.1111111111111111,
             "#46039f"
            ],
            [
             0.2222222222222222,
             "#7201a8"
            ],
            [
             0.3333333333333333,
             "#9c179e"
            ],
            [
             0.4444444444444444,
             "#bd3786"
            ],
            [
             0.5555555555555556,
             "#d8576b"
            ],
            [
             0.6666666666666666,
             "#ed7953"
            ],
            [
             0.7777777777777778,
             "#fb9f3a"
            ],
            [
             0.8888888888888888,
             "#fdca26"
            ],
            [
             1,
             "#f0f921"
            ]
           ],
           "sequentialminus": [
            [
             0,
             "#0d0887"
            ],
            [
             0.1111111111111111,
             "#46039f"
            ],
            [
             0.2222222222222222,
             "#7201a8"
            ],
            [
             0.3333333333333333,
             "#9c179e"
            ],
            [
             0.4444444444444444,
             "#bd3786"
            ],
            [
             0.5555555555555556,
             "#d8576b"
            ],
            [
             0.6666666666666666,
             "#ed7953"
            ],
            [
             0.7777777777777778,
             "#fb9f3a"
            ],
            [
             0.8888888888888888,
             "#fdca26"
            ],
            [
             1,
             "#f0f921"
            ]
           ]
          },
          "colorway": [
           "#636efa",
           "#EF553B",
           "#00cc96",
           "#ab63fa",
           "#FFA15A",
           "#19d3f3",
           "#FF6692",
           "#B6E880",
           "#FF97FF",
           "#FECB52"
          ],
          "font": {
           "color": "#f2f5fa"
          },
          "geo": {
           "bgcolor": "rgb(17,17,17)",
           "lakecolor": "rgb(17,17,17)",
           "landcolor": "rgb(17,17,17)",
           "showlakes": true,
           "showland": true,
           "subunitcolor": "#506784"
          },
          "hoverlabel": {
           "align": "left"
          },
          "hovermode": "closest",
          "mapbox": {
           "style": "dark"
          },
          "paper_bgcolor": "rgb(17,17,17)",
          "plot_bgcolor": "rgb(17,17,17)",
          "polar": {
           "angularaxis": {
            "gridcolor": "#506784",
            "linecolor": "#506784",
            "ticks": ""
           },
           "bgcolor": "rgb(17,17,17)",
           "radialaxis": {
            "gridcolor": "#506784",
            "linecolor": "#506784",
            "ticks": ""
           }
          },
          "scene": {
           "xaxis": {
            "backgroundcolor": "rgb(17,17,17)",
            "gridcolor": "#506784",
            "gridwidth": 2,
            "linecolor": "#506784",
            "showbackground": true,
            "ticks": "",
            "zerolinecolor": "#C8D4E3"
           },
           "yaxis": {
            "backgroundcolor": "rgb(17,17,17)",
            "gridcolor": "#506784",
            "gridwidth": 2,
            "linecolor": "#506784",
            "showbackground": true,
            "ticks": "",
            "zerolinecolor": "#C8D4E3"
           },
           "zaxis": {
            "backgroundcolor": "rgb(17,17,17)",
            "gridcolor": "#506784",
            "gridwidth": 2,
            "linecolor": "#506784",
            "showbackground": true,
            "ticks": "",
            "zerolinecolor": "#C8D4E3"
           }
          },
          "shapedefaults": {
           "line": {
            "color": "#f2f5fa"
           }
          },
          "sliderdefaults": {
           "bgcolor": "#C8D4E3",
           "bordercolor": "rgb(17,17,17)",
           "borderwidth": 1,
           "tickwidth": 0
          },
          "ternary": {
           "aaxis": {
            "gridcolor": "#506784",
            "linecolor": "#506784",
            "ticks": ""
           },
           "baxis": {
            "gridcolor": "#506784",
            "linecolor": "#506784",
            "ticks": ""
           },
           "bgcolor": "rgb(17,17,17)",
           "caxis": {
            "gridcolor": "#506784",
            "linecolor": "#506784",
            "ticks": ""
           }
          },
          "title": {
           "x": 0.05
          },
          "updatemenudefaults": {
           "bgcolor": "#506784",
           "borderwidth": 0
          },
          "xaxis": {
           "automargin": true,
           "gridcolor": "#283442",
           "linecolor": "#506784",
           "ticks": "",
           "title": {
            "standoff": 15
           },
           "zerolinecolor": "#283442",
           "zerolinewidth": 2
          },
          "yaxis": {
           "automargin": true,
           "gridcolor": "#283442",
           "linecolor": "#506784",
           "ticks": "",
           "title": {
            "standoff": 15
           },
           "zerolinecolor": "#283442",
           "zerolinewidth": 2
          }
         }
        },
        "title": {
         "text": "AAPL Predicted Error CDF"
        },
        "xaxis": {
         "title": {
          "text": "Absolute Error (USD)"
         }
        },
        "yaxis": {
         "title": {
          "text": "Cumulative Probability"
         }
        }
       }
      }
     },
     "metadata": {},
     "output_type": "display_data"
    }
   ],
   "source": [
    "plotErrorCDF(y_testNp, predictions)"
   ]
  }
 ],
 "metadata": {
  "kernelspec": {
   "display_name": "venv",
   "language": "python",
   "name": "python3"
  },
  "language_info": {
   "codemirror_mode": {
    "name": "ipython",
    "version": 3
   },
   "file_extension": ".py",
   "mimetype": "text/x-python",
   "name": "python",
   "nbconvert_exporter": "python",
   "pygments_lexer": "ipython3",
   "version": "3.12.6"
  }
 },
 "nbformat": 4,
 "nbformat_minor": 5
}
